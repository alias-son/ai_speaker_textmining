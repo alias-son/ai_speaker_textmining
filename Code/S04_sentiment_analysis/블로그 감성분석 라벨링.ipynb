{
 "cells": [
  {
   "cell_type": "code",
   "execution_count": 1,
   "metadata": {
    "collapsed": true
   },
   "outputs": [],
   "source": [
    "import pandas as pd\n",
    "import numpy as np\n",
    "import re"
   ]
  },
  {
   "cell_type": "code",
   "execution_count": 2,
   "metadata": {
    "collapsed": true
   },
   "outputs": [],
   "source": [
    "clova_blog_df = pd.read_csv('/Users/Taewoo/Desktop/textmining/ai_speaker_textmining/data/naver_blog/naverclova_speaker_blog.csv'\n",
    "                            , encoding='UTF-16', index_col=0)\n",
    "kakao_blog_df = pd.read_csv('/Users/Taewoo/Desktop/textmining/ai_speaker_textmining/data/naver_blog/kakaomini_speaker_blog.csv'\n",
    "                            , encoding='UTF-8', index_col=0)\n",
    "genie_blog_df = pd.read_csv('/Users/Taewoo/Desktop/textmining/ai_speaker_textmining/data/naver_blog/gigagenie_speaker_blog.csv'\n",
    "                            , encoding='UTF-16', index_col=0)\n",
    "nugu_blog_df = pd.read_csv('/Users/Taewoo/Desktop/textmining/ai_speaker_textmining/data/naver_blog/nugu_speaker_blog.csv'\n",
    "                            , encoding='UTF-16', index_col=0)"
   ]
  },
  {
   "cell_type": "code",
   "execution_count": 3,
   "metadata": {},
   "outputs": [
    {
     "name": "stdout",
     "output_type": "stream",
     "text": [
      "4426\n"
     ]
    },
    {
     "data": {
      "text/plain": [
       "title                  1\n",
       "publish_datetime      33\n",
       "text                1021\n",
       "url                    0\n",
       "dtype: int64"
      ]
     },
     "execution_count": 3,
     "metadata": {},
     "output_type": "execute_result"
    }
   ],
   "source": [
    "print(len(clova_blog_df))\n",
    "clova_blog_df.isnull().sum()"
   ]
  },
  {
   "cell_type": "code",
   "execution_count": 4,
   "metadata": {},
   "outputs": [
    {
     "name": "stdout",
     "output_type": "stream",
     "text": [
      "2588\n"
     ]
    },
    {
     "data": {
      "text/plain": [
       "title                 1\n",
       "publish_datetime     27\n",
       "text                533\n",
       "url                   0\n",
       "dtype: int64"
      ]
     },
     "execution_count": 4,
     "metadata": {},
     "output_type": "execute_result"
    }
   ],
   "source": [
    "print(len(kakao_blog_df))\n",
    "kakao_blog_df.isnull().sum()"
   ]
  },
  {
   "cell_type": "code",
   "execution_count": 5,
   "metadata": {},
   "outputs": [
    {
     "name": "stdout",
     "output_type": "stream",
     "text": [
      "3522\n"
     ]
    },
    {
     "data": {
      "text/plain": [
       "title                  1\n",
       "publish_datetime      18\n",
       "text                1291\n",
       "url                    0\n",
       "dtype: int64"
      ]
     },
     "execution_count": 5,
     "metadata": {},
     "output_type": "execute_result"
    }
   ],
   "source": [
    "print(len(genie_blog_df))\n",
    "genie_blog_df.isnull().sum()"
   ]
  },
  {
   "cell_type": "code",
   "execution_count": 6,
   "metadata": {},
   "outputs": [
    {
     "name": "stdout",
     "output_type": "stream",
     "text": [
      "3943\n"
     ]
    },
    {
     "data": {
      "text/plain": [
       "title               417\n",
       "publish_datetime    440\n",
       "text                445\n",
       "url                   0\n",
       "dtype: int64"
      ]
     },
     "execution_count": 6,
     "metadata": {},
     "output_type": "execute_result"
    }
   ],
   "source": [
    "print(len(nugu_blog_df))\n",
    "nugu_blog_df.isnull().sum()"
   ]
  },
  {
   "cell_type": "markdown",
   "metadata": {},
   "source": [
    "<br/><br/>\n",
    "# 시작"
   ]
  },
  {
   "cell_type": "code",
   "execution_count": 7,
   "metadata": {
    "collapsed": true
   },
   "outputs": [],
   "source": [
    "def clear_content(temp):\n",
    "    #want_remove = ['flash 오류를 우회하기 위한 함수 추가', 'function _flash_removeCallback', \n",
    "    #               '\\n', '\\.\\.', '[\\w]+ 기자', '\\xa0', '\\r', '\\t']\n",
    "    content = re.sub('[a-zA-Z0-9]+[a-zA-Z0-9+-_.]+@[a-zA-Z0-9-]+\\.[a-zA-Z0-9-.]+', ' ', temp) # 이메일주소 없애기\n",
    "    content = re.sub('(https?:\\/\\/)?([\\da-z\\.-]+)\\.([a-z\\.]{2,6})([\\/\\w_\\.-]*)*\\/?', ' ', content) # URL 없애기\n",
    "    #content = re.sub('|'.join(want_remove), ' ', content)\n",
    "    content = re.sub('\\n|\\r|\\xa0', ' ', content)\n",
    "    content = re.sub('[\\(]', ' ', content) # 커머스(전자상거래)와' -> '커머스전자상거래와' 이렇게 변하던것을 -> '커머스 전자상거래'\n",
    "    content = re.sub('~', ' ', content)\n",
    "    #content = re.sub('[^\\.\\?\\!\\^^\\♥\\♡\\w\\d\\s]','', content) # 불필요한 기호 없애기\n",
    "    content = re.sub('\\d', '', content)\n",
    "    content = re.sub('[^\\.\\?\\!\\^^\\♥\\♡\\w\\s]','', content) # 불필요한 기호 없애기\n",
    "    while '  ' in content: content = content.replace('  ', ' ') # 빈칸 없애주기 \n",
    "    content = content.strip()\n",
    "    return content"
   ]
  },
  {
   "cell_type": "markdown",
   "metadata": {},
   "source": [
    "<br/><br/>\n",
    "### 클로바 1000개"
   ]
  },
  {
   "cell_type": "code",
   "execution_count": 8,
   "metadata": {},
   "outputs": [
    {
     "data": {
      "text/html": [
       "<div>\n",
       "<style scoped>\n",
       "    .dataframe tbody tr th:only-of-type {\n",
       "        vertical-align: middle;\n",
       "    }\n",
       "\n",
       "    .dataframe tbody tr th {\n",
       "        vertical-align: top;\n",
       "    }\n",
       "\n",
       "    .dataframe thead th {\n",
       "        text-align: right;\n",
       "    }\n",
       "</style>\n",
       "<table border=\"1\" class=\"dataframe\">\n",
       "  <thead>\n",
       "    <tr style=\"text-align: right;\">\n",
       "      <th></th>\n",
       "      <th>title</th>\n",
       "      <th>publish_datetime</th>\n",
       "      <th>text</th>\n",
       "      <th>url</th>\n",
       "    </tr>\n",
       "  </thead>\n",
       "  <tbody>\n",
       "    <tr>\n",
       "      <th>0</th>\n",
       "      <td>블루투스 라디오 알람시계 'iLuv 모닝콜2' 리뷰 &amp; 어플추천</td>\n",
       "      <td>2017-09-02 11:43:00</td>\n",
       "      <td>침대 옆 공간은 좁지만 놓아야 할 것들이 꽤 많아서 늘 비좁은데, 침대맡에 하나 두...</td>\n",
       "      <td>http://blog.naver.com/PostView.nhn?blogId=revi...</td>\n",
       "    </tr>\n",
       "    <tr>\n",
       "      <th>1</th>\n",
       "      <td>WAVE 리뷰를 하려다가 QA?</td>\n",
       "      <td>2017-09-02 08:50:00</td>\n",
       "      <td>WAVE 를 입수한 김에 큰 맘먹고 리뷰를 한 번 써보려다가 결국 근사한 리뷰작성 ...</td>\n",
       "      <td>http://blog.naver.com/PostView.nhn?blogId=revi...</td>\n",
       "    </tr>\n",
       "    <tr>\n",
       "      <th>2</th>\n",
       "      <td>핀테크의 교육이 시급하다</td>\n",
       "      <td>2017-09-03 20:49:00</td>\n",
       "      <td>통장없이 휴대폰 하나에 공인인증서만 받아두면 왠만한 은행업무는 휴대폰 하나로 끝난다...</td>\n",
       "      <td>http://blog.naver.com/PostView.nhn?blogId=revi...</td>\n",
       "    </tr>\n",
       "    <tr>\n",
       "      <th>3</th>\n",
       "      <td>스마트 스피커는 어떤 제품들이 있을까?</td>\n",
       "      <td>2017-09-04 17:11:00</td>\n",
       "      <td>최근 등장한 새로운 용어바로 스마트 스피커입니다.간단히 설명하면 음성인식이 가능해서...</td>\n",
       "      <td>http://blog.naver.com/PostView.nhn?blogId=revi...</td>\n",
       "    </tr>\n",
       "    <tr>\n",
       "      <th>4</th>\n",
       "      <td>AI, 클라우드 플랫폼이라는 전장에서 모두가 만난다 - Byline Network</td>\n",
       "      <td>NaN</td>\n",
       "      <td>NaN</td>\n",
       "      <td>http://blog.naver.com/PostView.nhn?blogId=revi...</td>\n",
       "    </tr>\n",
       "  </tbody>\n",
       "</table>\n",
       "</div>"
      ],
      "text/plain": [
       "                                           title     publish_datetime  \\\n",
       "0            블루투스 라디오 알람시계 'iLuv 모닝콜2' 리뷰 & 어플추천  2017-09-02 11:43:00   \n",
       "1                              WAVE 리뷰를 하려다가 QA?  2017-09-02 08:50:00   \n",
       "2                                  핀테크의 교육이 시급하다  2017-09-03 20:49:00   \n",
       "3                          스마트 스피커는 어떤 제품들이 있을까?  2017-09-04 17:11:00   \n",
       "4  AI, 클라우드 플랫폼이라는 전장에서 모두가 만난다 - Byline Network                  NaN   \n",
       "\n",
       "                                                text  \\\n",
       "0  침대 옆 공간은 좁지만 놓아야 할 것들이 꽤 많아서 늘 비좁은데, 침대맡에 하나 두...   \n",
       "1  WAVE 를 입수한 김에 큰 맘먹고 리뷰를 한 번 써보려다가 결국 근사한 리뷰작성 ...   \n",
       "2  통장없이 휴대폰 하나에 공인인증서만 받아두면 왠만한 은행업무는 휴대폰 하나로 끝난다...   \n",
       "3  최근 등장한 새로운 용어바로 스마트 스피커입니다.간단히 설명하면 음성인식이 가능해서...   \n",
       "4                                                NaN   \n",
       "\n",
       "                                                 url  \n",
       "0  http://blog.naver.com/PostView.nhn?blogId=revi...  \n",
       "1  http://blog.naver.com/PostView.nhn?blogId=revi...  \n",
       "2  http://blog.naver.com/PostView.nhn?blogId=revi...  \n",
       "3  http://blog.naver.com/PostView.nhn?blogId=revi...  \n",
       "4  http://blog.naver.com/PostView.nhn?blogId=revi...  "
      ]
     },
     "execution_count": 8,
     "metadata": {},
     "output_type": "execute_result"
    }
   ],
   "source": [
    "clova_blog_df.head()"
   ]
  },
  {
   "cell_type": "code",
   "execution_count": 9,
   "metadata": {
    "collapsed": true
   },
   "outputs": [],
   "source": [
    "clova_blog_df = clova_blog_df[clova_blog_df['text'].notnull()].copy()"
   ]
  },
  {
   "cell_type": "code",
   "execution_count": 10,
   "metadata": {
    "collapsed": true
   },
   "outputs": [],
   "source": [
    "clova_blog_df[\"preprocessed_text\"] = clova_blog_df['text'].map(clear_content) "
   ]
  },
  {
   "cell_type": "code",
   "execution_count": 11,
   "metadata": {},
   "outputs": [
    {
     "name": "stdout",
     "output_type": "stream",
     "text": [
      "[1130]\n"
     ]
    }
   ],
   "source": [
    "del_idx = []\n",
    "for num, i in enumerate(clova_blog_df['preprocessed_text']):\n",
    "    if i == '' or i == None or i == ' ':\n",
    "        del_idx.append(num)\n",
    "print(del_idx)"
   ]
  },
  {
   "cell_type": "code",
   "execution_count": 12,
   "metadata": {},
   "outputs": [
    {
     "data": {
      "text/html": [
       "<div>\n",
       "<style scoped>\n",
       "    .dataframe tbody tr th:only-of-type {\n",
       "        vertical-align: middle;\n",
       "    }\n",
       "\n",
       "    .dataframe tbody tr th {\n",
       "        vertical-align: top;\n",
       "    }\n",
       "\n",
       "    .dataframe thead th {\n",
       "        text-align: right;\n",
       "    }\n",
       "</style>\n",
       "<table border=\"1\" class=\"dataframe\">\n",
       "  <thead>\n",
       "    <tr style=\"text-align: right;\">\n",
       "      <th></th>\n",
       "      <th>title</th>\n",
       "      <th>publish_datetime</th>\n",
       "      <th>text</th>\n",
       "      <th>url</th>\n",
       "      <th>preprocessed_text</th>\n",
       "    </tr>\n",
       "  </thead>\n",
       "  <tbody>\n",
       "  </tbody>\n",
       "</table>\n",
       "</div>"
      ],
      "text/plain": [
       "Empty DataFrame\n",
       "Columns: [title, publish_datetime, text, url, preprocessed_text]\n",
       "Index: []"
      ]
     },
     "execution_count": 12,
     "metadata": {},
     "output_type": "execute_result"
    }
   ],
   "source": [
    "clova_blog_df[clova_blog_df['preprocessed_text'].isnull()]"
   ]
  },
  {
   "cell_type": "code",
   "execution_count": 13,
   "metadata": {
    "collapsed": true
   },
   "outputs": [],
   "source": [
    "final_clova_df = clova_blog_df.drop(clova_blog_df.index[del_idx]).copy()"
   ]
  },
  {
   "cell_type": "code",
   "execution_count": 14,
   "metadata": {},
   "outputs": [
    {
     "data": {
      "text/html": [
       "<div>\n",
       "<style scoped>\n",
       "    .dataframe tbody tr th:only-of-type {\n",
       "        vertical-align: middle;\n",
       "    }\n",
       "\n",
       "    .dataframe tbody tr th {\n",
       "        vertical-align: top;\n",
       "    }\n",
       "\n",
       "    .dataframe thead th {\n",
       "        text-align: right;\n",
       "    }\n",
       "</style>\n",
       "<table border=\"1\" class=\"dataframe\">\n",
       "  <thead>\n",
       "    <tr style=\"text-align: right;\">\n",
       "      <th></th>\n",
       "      <th>title</th>\n",
       "      <th>publish_datetime</th>\n",
       "      <th>text</th>\n",
       "      <th>url</th>\n",
       "      <th>preprocessed_text</th>\n",
       "    </tr>\n",
       "  </thead>\n",
       "  <tbody>\n",
       "    <tr>\n",
       "      <th>0</th>\n",
       "      <td>블루투스 라디오 알람시계 'iLuv 모닝콜2' 리뷰 &amp; 어플추천</td>\n",
       "      <td>2017-09-02 11:43:00</td>\n",
       "      <td>침대 옆 공간은 좁지만 놓아야 할 것들이 꽤 많아서 늘 비좁은데, 침대맡에 하나 두...</td>\n",
       "      <td>http://blog.naver.com/PostView.nhn?blogId=revi...</td>\n",
       "      <td>침대 옆 공간은 좁지만 놓아야 할 것들이 꽤 많아서 늘 비좁은데 침대맡에 하나 두고...</td>\n",
       "    </tr>\n",
       "    <tr>\n",
       "      <th>1</th>\n",
       "      <td>WAVE 리뷰를 하려다가 QA?</td>\n",
       "      <td>2017-09-02 08:50:00</td>\n",
       "      <td>WAVE 를 입수한 김에 큰 맘먹고 리뷰를 한 번 써보려다가 결국 근사한 리뷰작성 ...</td>\n",
       "      <td>http://blog.naver.com/PostView.nhn?blogId=revi...</td>\n",
       "      <td>WAVE 를 입수한 김에 큰 맘먹고 리뷰를 한 번 써보려다가 결국 근사한 리뷰작성 ...</td>\n",
       "    </tr>\n",
       "    <tr>\n",
       "      <th>2</th>\n",
       "      <td>핀테크의 교육이 시급하다</td>\n",
       "      <td>2017-09-03 20:49:00</td>\n",
       "      <td>통장없이 휴대폰 하나에 공인인증서만 받아두면 왠만한 은행업무는 휴대폰 하나로 끝난다...</td>\n",
       "      <td>http://blog.naver.com/PostView.nhn?blogId=revi...</td>\n",
       "      <td>통장없이 휴대폰 하나에 공인인증서만 받아두면 왠만한 은행업무는 휴대폰 하나로 끝난다...</td>\n",
       "    </tr>\n",
       "    <tr>\n",
       "      <th>3</th>\n",
       "      <td>스마트 스피커는 어떤 제품들이 있을까?</td>\n",
       "      <td>2017-09-04 17:11:00</td>\n",
       "      <td>최근 등장한 새로운 용어바로 스마트 스피커입니다.간단히 설명하면 음성인식이 가능해서...</td>\n",
       "      <td>http://blog.naver.com/PostView.nhn?blogId=revi...</td>\n",
       "      <td>최근 등장한 새로운 용어바로 스마트 스피커입니다.간단히 설명하면 음성인식이 가능해서...</td>\n",
       "    </tr>\n",
       "    <tr>\n",
       "      <th>5</th>\n",
       "      <td>[위드컬처/트렌드] 미래의 거주환경, 스마트 홈이 다가온다</td>\n",
       "      <td>2017-09-08 19:04:00</td>\n",
       "      <td>[위드컬처/트렌드] 미래의 거주환경, 스마트 홈이 다가온다\\n4차 산업 혁명 시대,...</td>\n",
       "      <td>http://blog.naver.com/PostView.nhn?blogId=revi...</td>\n",
       "      <td>위드컬처트렌드 미래의 거주환경 스마트 홈이 다가온다 차 산업 혁명 시대 세계는 지금...</td>\n",
       "    </tr>\n",
       "  </tbody>\n",
       "</table>\n",
       "</div>"
      ],
      "text/plain": [
       "                                 title     publish_datetime  \\\n",
       "0  블루투스 라디오 알람시계 'iLuv 모닝콜2' 리뷰 & 어플추천  2017-09-02 11:43:00   \n",
       "1                    WAVE 리뷰를 하려다가 QA?  2017-09-02 08:50:00   \n",
       "2                        핀테크의 교육이 시급하다  2017-09-03 20:49:00   \n",
       "3                스마트 스피커는 어떤 제품들이 있을까?  2017-09-04 17:11:00   \n",
       "5     [위드컬처/트렌드] 미래의 거주환경, 스마트 홈이 다가온다  2017-09-08 19:04:00   \n",
       "\n",
       "                                                text  \\\n",
       "0  침대 옆 공간은 좁지만 놓아야 할 것들이 꽤 많아서 늘 비좁은데, 침대맡에 하나 두...   \n",
       "1  WAVE 를 입수한 김에 큰 맘먹고 리뷰를 한 번 써보려다가 결국 근사한 리뷰작성 ...   \n",
       "2  통장없이 휴대폰 하나에 공인인증서만 받아두면 왠만한 은행업무는 휴대폰 하나로 끝난다...   \n",
       "3  최근 등장한 새로운 용어바로 스마트 스피커입니다.간단히 설명하면 음성인식이 가능해서...   \n",
       "5  [위드컬처/트렌드] 미래의 거주환경, 스마트 홈이 다가온다\\n4차 산업 혁명 시대,...   \n",
       "\n",
       "                                                 url  \\\n",
       "0  http://blog.naver.com/PostView.nhn?blogId=revi...   \n",
       "1  http://blog.naver.com/PostView.nhn?blogId=revi...   \n",
       "2  http://blog.naver.com/PostView.nhn?blogId=revi...   \n",
       "3  http://blog.naver.com/PostView.nhn?blogId=revi...   \n",
       "5  http://blog.naver.com/PostView.nhn?blogId=revi...   \n",
       "\n",
       "                                   preprocessed_text  \n",
       "0  침대 옆 공간은 좁지만 놓아야 할 것들이 꽤 많아서 늘 비좁은데 침대맡에 하나 두고...  \n",
       "1  WAVE 를 입수한 김에 큰 맘먹고 리뷰를 한 번 써보려다가 결국 근사한 리뷰작성 ...  \n",
       "2  통장없이 휴대폰 하나에 공인인증서만 받아두면 왠만한 은행업무는 휴대폰 하나로 끝난다...  \n",
       "3  최근 등장한 새로운 용어바로 스마트 스피커입니다.간단히 설명하면 음성인식이 가능해서...  \n",
       "5  위드컬처트렌드 미래의 거주환경 스마트 홈이 다가온다 차 산업 혁명 시대 세계는 지금...  "
      ]
     },
     "execution_count": 14,
     "metadata": {},
     "output_type": "execute_result"
    }
   ],
   "source": [
    "final_clova_df.head()"
   ]
  },
  {
   "cell_type": "code",
   "execution_count": 18,
   "metadata": {
    "collapsed": true
   },
   "outputs": [],
   "source": [
    "import nltk.tokenize\n",
    "final_clova_df['sentence_text'] = final_clova_df['preprocessed_text'].map(nltk.tokenize.sent_tokenize)"
   ]
  },
  {
   "cell_type": "code",
   "execution_count": 19,
   "metadata": {
    "collapsed": true
   },
   "outputs": [],
   "source": [
    "# 빈 데이터들을 다 삭제하고 난 뒤, 인덱스를 다시 0부터 순서대로 부여해 줌\n",
    "final_clova_df.reset_index(drop=True, inplace=True)"
   ]
  },
  {
   "cell_type": "code",
   "execution_count": 20,
   "metadata": {},
   "outputs": [
    {
     "data": {
      "text/html": [
       "<div>\n",
       "<style scoped>\n",
       "    .dataframe tbody tr th:only-of-type {\n",
       "        vertical-align: middle;\n",
       "    }\n",
       "\n",
       "    .dataframe tbody tr th {\n",
       "        vertical-align: top;\n",
       "    }\n",
       "\n",
       "    .dataframe thead th {\n",
       "        text-align: right;\n",
       "    }\n",
       "</style>\n",
       "<table border=\"1\" class=\"dataframe\">\n",
       "  <thead>\n",
       "    <tr style=\"text-align: right;\">\n",
       "      <th></th>\n",
       "      <th>title</th>\n",
       "      <th>publish_datetime</th>\n",
       "      <th>text</th>\n",
       "      <th>url</th>\n",
       "      <th>preprocessed_text</th>\n",
       "      <th>sentence_text</th>\n",
       "    </tr>\n",
       "  </thead>\n",
       "  <tbody>\n",
       "    <tr>\n",
       "      <th>0</th>\n",
       "      <td>블루투스 라디오 알람시계 'iLuv 모닝콜2' 리뷰 &amp; 어플추천</td>\n",
       "      <td>2017-09-02 11:43:00</td>\n",
       "      <td>침대 옆 공간은 좁지만 놓아야 할 것들이 꽤 많아서 늘 비좁은데, 침대맡에 하나 두...</td>\n",
       "      <td>http://blog.naver.com/PostView.nhn?blogId=revi...</td>\n",
       "      <td>침대 옆 공간은 좁지만 놓아야 할 것들이 꽤 많아서 늘 비좁은데 침대맡에 하나 두고...</td>\n",
       "      <td>[침대 옆 공간은 좁지만 놓아야 할 것들이 꽤 많아서 늘 비좁은데 침대맡에 하나 두...</td>\n",
       "    </tr>\n",
       "    <tr>\n",
       "      <th>1</th>\n",
       "      <td>WAVE 리뷰를 하려다가 QA?</td>\n",
       "      <td>2017-09-02 08:50:00</td>\n",
       "      <td>WAVE 를 입수한 김에 큰 맘먹고 리뷰를 한 번 써보려다가 결국 근사한 리뷰작성 ...</td>\n",
       "      <td>http://blog.naver.com/PostView.nhn?blogId=revi...</td>\n",
       "      <td>WAVE 를 입수한 김에 큰 맘먹고 리뷰를 한 번 써보려다가 결국 근사한 리뷰작성 ...</td>\n",
       "      <td>[WAVE 를 입수한 김에 큰 맘먹고 리뷰를 한 번 써보려다가 결국 근사한 리뷰작성...</td>\n",
       "    </tr>\n",
       "    <tr>\n",
       "      <th>2</th>\n",
       "      <td>핀테크의 교육이 시급하다</td>\n",
       "      <td>2017-09-03 20:49:00</td>\n",
       "      <td>통장없이 휴대폰 하나에 공인인증서만 받아두면 왠만한 은행업무는 휴대폰 하나로 끝난다...</td>\n",
       "      <td>http://blog.naver.com/PostView.nhn?blogId=revi...</td>\n",
       "      <td>통장없이 휴대폰 하나에 공인인증서만 받아두면 왠만한 은행업무는 휴대폰 하나로 끝난다...</td>\n",
       "      <td>[통장없이 휴대폰 하나에 공인인증서만 받아두면 왠만한 은행업무는 휴대폰 하나로 끝난...</td>\n",
       "    </tr>\n",
       "    <tr>\n",
       "      <th>3</th>\n",
       "      <td>스마트 스피커는 어떤 제품들이 있을까?</td>\n",
       "      <td>2017-09-04 17:11:00</td>\n",
       "      <td>최근 등장한 새로운 용어바로 스마트 스피커입니다.간단히 설명하면 음성인식이 가능해서...</td>\n",
       "      <td>http://blog.naver.com/PostView.nhn?blogId=revi...</td>\n",
       "      <td>최근 등장한 새로운 용어바로 스마트 스피커입니다.간단히 설명하면 음성인식이 가능해서...</td>\n",
       "      <td>[최근 등장한 새로운 용어바로 스마트 스피커입니다.간단히 설명하면 음성인식이 가능해...</td>\n",
       "    </tr>\n",
       "    <tr>\n",
       "      <th>4</th>\n",
       "      <td>[위드컬처/트렌드] 미래의 거주환경, 스마트 홈이 다가온다</td>\n",
       "      <td>2017-09-08 19:04:00</td>\n",
       "      <td>[위드컬처/트렌드] 미래의 거주환경, 스마트 홈이 다가온다\\n4차 산업 혁명 시대,...</td>\n",
       "      <td>http://blog.naver.com/PostView.nhn?blogId=revi...</td>\n",
       "      <td>위드컬처트렌드 미래의 거주환경 스마트 홈이 다가온다 차 산업 혁명 시대 세계는 지금...</td>\n",
       "      <td>[위드컬처트렌드 미래의 거주환경 스마트 홈이 다가온다 차 산업 혁명 시대 세계는 지...</td>\n",
       "    </tr>\n",
       "  </tbody>\n",
       "</table>\n",
       "</div>"
      ],
      "text/plain": [
       "                                 title     publish_datetime  \\\n",
       "0  블루투스 라디오 알람시계 'iLuv 모닝콜2' 리뷰 & 어플추천  2017-09-02 11:43:00   \n",
       "1                    WAVE 리뷰를 하려다가 QA?  2017-09-02 08:50:00   \n",
       "2                        핀테크의 교육이 시급하다  2017-09-03 20:49:00   \n",
       "3                스마트 스피커는 어떤 제품들이 있을까?  2017-09-04 17:11:00   \n",
       "4     [위드컬처/트렌드] 미래의 거주환경, 스마트 홈이 다가온다  2017-09-08 19:04:00   \n",
       "\n",
       "                                                text  \\\n",
       "0  침대 옆 공간은 좁지만 놓아야 할 것들이 꽤 많아서 늘 비좁은데, 침대맡에 하나 두...   \n",
       "1  WAVE 를 입수한 김에 큰 맘먹고 리뷰를 한 번 써보려다가 결국 근사한 리뷰작성 ...   \n",
       "2  통장없이 휴대폰 하나에 공인인증서만 받아두면 왠만한 은행업무는 휴대폰 하나로 끝난다...   \n",
       "3  최근 등장한 새로운 용어바로 스마트 스피커입니다.간단히 설명하면 음성인식이 가능해서...   \n",
       "4  [위드컬처/트렌드] 미래의 거주환경, 스마트 홈이 다가온다\\n4차 산업 혁명 시대,...   \n",
       "\n",
       "                                                 url  \\\n",
       "0  http://blog.naver.com/PostView.nhn?blogId=revi...   \n",
       "1  http://blog.naver.com/PostView.nhn?blogId=revi...   \n",
       "2  http://blog.naver.com/PostView.nhn?blogId=revi...   \n",
       "3  http://blog.naver.com/PostView.nhn?blogId=revi...   \n",
       "4  http://blog.naver.com/PostView.nhn?blogId=revi...   \n",
       "\n",
       "                                   preprocessed_text  \\\n",
       "0  침대 옆 공간은 좁지만 놓아야 할 것들이 꽤 많아서 늘 비좁은데 침대맡에 하나 두고...   \n",
       "1  WAVE 를 입수한 김에 큰 맘먹고 리뷰를 한 번 써보려다가 결국 근사한 리뷰작성 ...   \n",
       "2  통장없이 휴대폰 하나에 공인인증서만 받아두면 왠만한 은행업무는 휴대폰 하나로 끝난다...   \n",
       "3  최근 등장한 새로운 용어바로 스마트 스피커입니다.간단히 설명하면 음성인식이 가능해서...   \n",
       "4  위드컬처트렌드 미래의 거주환경 스마트 홈이 다가온다 차 산업 혁명 시대 세계는 지금...   \n",
       "\n",
       "                                       sentence_text  \n",
       "0  [침대 옆 공간은 좁지만 놓아야 할 것들이 꽤 많아서 늘 비좁은데 침대맡에 하나 두...  \n",
       "1  [WAVE 를 입수한 김에 큰 맘먹고 리뷰를 한 번 써보려다가 결국 근사한 리뷰작성...  \n",
       "2  [통장없이 휴대폰 하나에 공인인증서만 받아두면 왠만한 은행업무는 휴대폰 하나로 끝난...  \n",
       "3  [최근 등장한 새로운 용어바로 스마트 스피커입니다.간단히 설명하면 음성인식이 가능해...  \n",
       "4  [위드컬처트렌드 미래의 거주환경 스마트 홈이 다가온다 차 산업 혁명 시대 세계는 지...  "
      ]
     },
     "execution_count": 20,
     "metadata": {},
     "output_type": "execute_result"
    }
   ],
   "source": [
    "final_clova_df.head()"
   ]
  },
  {
   "cell_type": "code",
   "execution_count": 21,
   "metadata": {
    "collapsed": true
   },
   "outputs": [],
   "source": [
    "doc_index_list = []\n",
    "sentence_list = []\n",
    "sentence_idx_list = []\n",
    "\n",
    "for doc_idx, sentence_text in enumerate(final_clova_df['sentence_text']):\n",
    "    length = len(sentence_text)\n",
    "    for sent_idx, sent in enumerate(sentence_text):\n",
    "        doc_index_list.append(doc_idx)\n",
    "        sentence_idx_list.append(sent_idx)\n",
    "        sentence_list.append(sent)"
   ]
  },
  {
   "cell_type": "code",
   "execution_count": 22,
   "metadata": {},
   "outputs": [
    {
     "data": {
      "text/html": [
       "<div>\n",
       "<style scoped>\n",
       "    .dataframe tbody tr th:only-of-type {\n",
       "        vertical-align: middle;\n",
       "    }\n",
       "\n",
       "    .dataframe tbody tr th {\n",
       "        vertical-align: top;\n",
       "    }\n",
       "\n",
       "    .dataframe thead th {\n",
       "        text-align: right;\n",
       "    }\n",
       "</style>\n",
       "<table border=\"1\" class=\"dataframe\">\n",
       "  <thead>\n",
       "    <tr style=\"text-align: right;\">\n",
       "      <th></th>\n",
       "      <th>document_index</th>\n",
       "      <th>sentence_index</th>\n",
       "      <th>sentence</th>\n",
       "    </tr>\n",
       "  </thead>\n",
       "  <tbody>\n",
       "    <tr>\n",
       "      <th>0</th>\n",
       "      <td>0</td>\n",
       "      <td>0</td>\n",
       "      <td>침대 옆 공간은 좁지만 놓아야 할 것들이 꽤 많아서 늘 비좁은데 침대맡에 하나 두고...</td>\n",
       "    </tr>\n",
       "    <tr>\n",
       "      <th>1</th>\n",
       "      <td>0</td>\n",
       "      <td>1</td>\n",
       "      <td>블루투스 스피커 LED 알람시계 라디오 충전용USB 아이러브 iLuv 모닝콜 이 제...</td>\n",
       "    </tr>\n",
       "    <tr>\n",
       "      <th>2</th>\n",
       "      <td>0</td>\n",
       "      <td>2</td>\n",
       "      <td>딱히 라디오라고 정의하기는 애매한데 생긴 것이 라디오 같으니까...ㅎㅎ 크기는 사진...</td>\n",
       "    </tr>\n",
       "    <tr>\n",
       "      <th>3</th>\n",
       "      <td>0</td>\n",
       "      <td>3</td>\n",
       "      <td>한 뼘 조금 안되는 아담 사이즈.</td>\n",
       "    </tr>\n",
       "    <tr>\n",
       "      <th>4</th>\n",
       "      <td>0</td>\n",
       "      <td>4</td>\n",
       "      <td>침대 옆 탁자나 싱크대 혹은 책상 앞에 올려 놓기 좋은 크기예요.</td>\n",
       "    </tr>\n",
       "  </tbody>\n",
       "</table>\n",
       "</div>"
      ],
      "text/plain": [
       "   document_index  sentence_index  \\\n",
       "0               0               0   \n",
       "1               0               1   \n",
       "2               0               2   \n",
       "3               0               3   \n",
       "4               0               4   \n",
       "\n",
       "                                            sentence  \n",
       "0  침대 옆 공간은 좁지만 놓아야 할 것들이 꽤 많아서 늘 비좁은데 침대맡에 하나 두고...  \n",
       "1  블루투스 스피커 LED 알람시계 라디오 충전용USB 아이러브 iLuv 모닝콜 이 제...  \n",
       "2  딱히 라디오라고 정의하기는 애매한데 생긴 것이 라디오 같으니까...ㅎㅎ 크기는 사진...  \n",
       "3                                 한 뼘 조금 안되는 아담 사이즈.  \n",
       "4               침대 옆 탁자나 싱크대 혹은 책상 앞에 올려 놓기 좋은 크기예요.  "
      ]
     },
     "execution_count": 22,
     "metadata": {},
     "output_type": "execute_result"
    }
   ],
   "source": [
    "sentiment_df = pd.DataFrame({'document_index': doc_index_list, 'sentence_index': sentence_idx_list, 'sentence': sentence_list})\n",
    "sentiment_df.head()"
   ]
  },
  {
   "cell_type": "code",
   "execution_count": 23,
   "metadata": {
    "collapsed": true,
    "scrolled": true
   },
   "outputs": [],
   "source": [
    "sample_df = sentiment_df.sample(frac=1)"
   ]
  },
  {
   "cell_type": "code",
   "execution_count": 24,
   "metadata": {
    "collapsed": true
   },
   "outputs": [],
   "source": [
    "sample_df.to_csv(\"./clova_shuffle_labeling.csv\", encoding='utf-8')"
   ]
  },
  {
   "cell_type": "code",
   "execution_count": 25,
   "metadata": {
    "collapsed": true
   },
   "outputs": [],
   "source": [
    "sample_df[:1000].to_excel(\"./hs_clova_labeling.xlsx\", encoding='utf-8')"
   ]
  },
  {
   "cell_type": "markdown",
   "metadata": {},
   "source": [
    "<br/><br/>\n",
    "### 카카오 1000개"
   ]
  },
  {
   "cell_type": "code",
   "execution_count": 55,
   "metadata": {
    "collapsed": true
   },
   "outputs": [],
   "source": [
    "df = kakao_blog_df\n",
    "name = \"kakao\"\n",
    "worker = \"tw\""
   ]
  },
  {
   "cell_type": "code",
   "execution_count": 41,
   "metadata": {},
   "outputs": [
    {
     "data": {
      "text/html": [
       "<div>\n",
       "<style scoped>\n",
       "    .dataframe tbody tr th:only-of-type {\n",
       "        vertical-align: middle;\n",
       "    }\n",
       "\n",
       "    .dataframe tbody tr th {\n",
       "        vertical-align: top;\n",
       "    }\n",
       "\n",
       "    .dataframe thead th {\n",
       "        text-align: right;\n",
       "    }\n",
       "</style>\n",
       "<table border=\"1\" class=\"dataframe\">\n",
       "  <thead>\n",
       "    <tr style=\"text-align: right;\">\n",
       "      <th></th>\n",
       "      <th>title</th>\n",
       "      <th>publish_datetime</th>\n",
       "      <th>text</th>\n",
       "      <th>url</th>\n",
       "    </tr>\n",
       "  </thead>\n",
       "  <tbody>\n",
       "    <tr>\n",
       "      <th>0</th>\n",
       "      <td>(스크랩)로엔엔터테인먼트의 멜론, 인공지능 스피커 덕에 급성장 확실</td>\n",
       "      <td>2017-10-01 22:17:00</td>\n",
       "      <td>원문보기</td>\n",
       "      <td>http://blog.naver.com/PostView.nhn?blogId=m_co...</td>\n",
       "    </tr>\n",
       "    <tr>\n",
       "      <th>1</th>\n",
       "      <td>대세는 인공지능 스피커! 네이버 웨이브 VS 카카오미니</td>\n",
       "      <td>2017-10-02 10:30:00</td>\n",
       "      <td>안녕하세요. 에스메모, 앱 플레이 미뮤 등 다양한 IT Life 플랫폼 퍼블리싱 기...</td>\n",
       "      <td>http://blog.naver.com/PostView.nhn?blogId=smar...</td>\n",
       "    </tr>\n",
       "    <tr>\n",
       "      <th>2</th>\n",
       "      <td>[2017' 칸광고제] 소셜 플랫폼의 새로운 진화. 페이스북 챗봇(Facebook ...</td>\n",
       "      <td>2017-10-02 15:36:00</td>\n",
       "      <td>NaN</td>\n",
       "      <td>http://blog.naver.com/PostView.nhn?blogId=stus...</td>\n",
       "    </tr>\n",
       "    <tr>\n",
       "      <th>3</th>\n",
       "      <td>공감수 순위 목록 2017년 10월 02일 기준</td>\n",
       "      <td>2017-10-03 09:44:00</td>\n",
       "      <td>NaN</td>\n",
       "      <td>http://blog.naver.com/PostView.nhn?blogId=medo...</td>\n",
       "    </tr>\n",
       "    <tr>\n",
       "      <th>4</th>\n",
       "      <td>조회수 순위 목록 2017년 10월 02일 기준</td>\n",
       "      <td>2017-10-03 09:46:00</td>\n",
       "      <td>NaN</td>\n",
       "      <td>http://blog.naver.com/PostView.nhn?blogId=7337...</td>\n",
       "    </tr>\n",
       "  </tbody>\n",
       "</table>\n",
       "</div>"
      ],
      "text/plain": [
       "                                               title     publish_datetime  \\\n",
       "0              (스크랩)로엔엔터테인먼트의 멜론, 인공지능 스피커 덕에 급성장 확실  2017-10-01 22:17:00   \n",
       "1                     대세는 인공지능 스피커! 네이버 웨이브 VS 카카오미니  2017-10-02 10:30:00   \n",
       "2  [2017' 칸광고제] 소셜 플랫폼의 새로운 진화. 페이스북 챗봇(Facebook ...  2017-10-02 15:36:00   \n",
       "3                        공감수 순위 목록 2017년 10월 02일 기준   2017-10-03 09:44:00   \n",
       "4                       조회수 순위 목록 2017년 10월 02일 기준    2017-10-03 09:46:00   \n",
       "\n",
       "                                                text  \\\n",
       "0                                               원문보기   \n",
       "1  안녕하세요. 에스메모, 앱 플레이 미뮤 등 다양한 IT Life 플랫폼 퍼블리싱 기...   \n",
       "2                                                NaN   \n",
       "3                                                NaN   \n",
       "4                                                NaN   \n",
       "\n",
       "                                                 url  \n",
       "0  http://blog.naver.com/PostView.nhn?blogId=m_co...  \n",
       "1  http://blog.naver.com/PostView.nhn?blogId=smar...  \n",
       "2  http://blog.naver.com/PostView.nhn?blogId=stus...  \n",
       "3  http://blog.naver.com/PostView.nhn?blogId=medo...  \n",
       "4  http://blog.naver.com/PostView.nhn?blogId=7337...  "
      ]
     },
     "execution_count": 41,
     "metadata": {},
     "output_type": "execute_result"
    }
   ],
   "source": [
    "df.head()"
   ]
  },
  {
   "cell_type": "code",
   "execution_count": 42,
   "metadata": {
    "collapsed": true
   },
   "outputs": [],
   "source": [
    "df = df[df['text'].notnull()].copy()"
   ]
  },
  {
   "cell_type": "code",
   "execution_count": 43,
   "metadata": {
    "collapsed": true
   },
   "outputs": [],
   "source": [
    "df[\"preprocessed_text\"] = df['text'].map(clear_content) "
   ]
  },
  {
   "cell_type": "code",
   "execution_count": 44,
   "metadata": {},
   "outputs": [
    {
     "name": "stdout",
     "output_type": "stream",
     "text": [
      "[247, 1137]\n"
     ]
    }
   ],
   "source": [
    "del_idx = []\n",
    "for num, i in enumerate(df['preprocessed_text']):\n",
    "    if i == '' or i == None or i == ' ':\n",
    "        del_idx.append(num)\n",
    "print(del_idx)"
   ]
  },
  {
   "cell_type": "code",
   "execution_count": 45,
   "metadata": {},
   "outputs": [
    {
     "data": {
      "text/html": [
       "<div>\n",
       "<style scoped>\n",
       "    .dataframe tbody tr th:only-of-type {\n",
       "        vertical-align: middle;\n",
       "    }\n",
       "\n",
       "    .dataframe tbody tr th {\n",
       "        vertical-align: top;\n",
       "    }\n",
       "\n",
       "    .dataframe thead th {\n",
       "        text-align: right;\n",
       "    }\n",
       "</style>\n",
       "<table border=\"1\" class=\"dataframe\">\n",
       "  <thead>\n",
       "    <tr style=\"text-align: right;\">\n",
       "      <th></th>\n",
       "      <th>title</th>\n",
       "      <th>publish_datetime</th>\n",
       "      <th>text</th>\n",
       "      <th>url</th>\n",
       "      <th>preprocessed_text</th>\n",
       "    </tr>\n",
       "  </thead>\n",
       "  <tbody>\n",
       "  </tbody>\n",
       "</table>\n",
       "</div>"
      ],
      "text/plain": [
       "Empty DataFrame\n",
       "Columns: [title, publish_datetime, text, url, preprocessed_text]\n",
       "Index: []"
      ]
     },
     "execution_count": 45,
     "metadata": {},
     "output_type": "execute_result"
    }
   ],
   "source": [
    "df[df['preprocessed_text'].isnull()]"
   ]
  },
  {
   "cell_type": "code",
   "execution_count": 46,
   "metadata": {
    "collapsed": true
   },
   "outputs": [],
   "source": [
    "final_df = df.drop(df.index[del_idx]).copy()"
   ]
  },
  {
   "cell_type": "code",
   "execution_count": 47,
   "metadata": {},
   "outputs": [
    {
     "data": {
      "text/html": [
       "<div>\n",
       "<style scoped>\n",
       "    .dataframe tbody tr th:only-of-type {\n",
       "        vertical-align: middle;\n",
       "    }\n",
       "\n",
       "    .dataframe tbody tr th {\n",
       "        vertical-align: top;\n",
       "    }\n",
       "\n",
       "    .dataframe thead th {\n",
       "        text-align: right;\n",
       "    }\n",
       "</style>\n",
       "<table border=\"1\" class=\"dataframe\">\n",
       "  <thead>\n",
       "    <tr style=\"text-align: right;\">\n",
       "      <th></th>\n",
       "      <th>title</th>\n",
       "      <th>publish_datetime</th>\n",
       "      <th>text</th>\n",
       "      <th>url</th>\n",
       "      <th>preprocessed_text</th>\n",
       "    </tr>\n",
       "  </thead>\n",
       "  <tbody>\n",
       "    <tr>\n",
       "      <th>0</th>\n",
       "      <td>(스크랩)로엔엔터테인먼트의 멜론, 인공지능 스피커 덕에 급성장 확실</td>\n",
       "      <td>2017-10-01 22:17:00</td>\n",
       "      <td>원문보기</td>\n",
       "      <td>http://blog.naver.com/PostView.nhn?blogId=m_co...</td>\n",
       "      <td>원문보기</td>\n",
       "    </tr>\n",
       "    <tr>\n",
       "      <th>1</th>\n",
       "      <td>대세는 인공지능 스피커! 네이버 웨이브 VS 카카오미니</td>\n",
       "      <td>2017-10-02 10:30:00</td>\n",
       "      <td>안녕하세요. 에스메모, 앱 플레이 미뮤 등 다양한 IT Life 플랫폼 퍼블리싱 기...</td>\n",
       "      <td>http://blog.naver.com/PostView.nhn?blogId=smar...</td>\n",
       "      <td>안녕하세요. 에스메모 앱 플레이 미뮤 등 다양한 IT Life 플랫폼 퍼블리싱 기업...</td>\n",
       "    </tr>\n",
       "    <tr>\n",
       "      <th>5</th>\n",
       "      <td>카카오미니 완판!! 얼마나 좋길래??</td>\n",
       "      <td>2017-10-04 13:30:00</td>\n",
       "      <td>안녕하세요~~오늘은 엄청 핫했던!!카카오미니에 대한 포스팅입니다^^!!이번에 9월 ...</td>\n",
       "      <td>http://blog.naver.com/PostView.nhn?blogId=alse...</td>\n",
       "      <td>안녕하세요 오늘은 엄청 핫했던!!카카오미니에 대한 포스팅입니다^^!!이번에 월 일 ...</td>\n",
       "    </tr>\n",
       "    <tr>\n",
       "      <th>8</th>\n",
       "      <td>누구? 아리아? 모두가 헷갈리는 AI 스피커의 '이름들' 한방에 정리해 줄게</td>\n",
       "      <td>2017-10-05 17:24:00</td>\n",
       "      <td>최근 IT 대기업들이 AI 스피커 출시에 박차를 가하고 있다. 8, 9월에만 해도 ...</td>\n",
       "      <td>http://blog.naver.com/PostView.nhn?blogId=dohk...</td>\n",
       "      <td>최근 IT 대기업들이 AI 스피커 출시에 박차를 가하고 있다. 월에만 해도 네이버의...</td>\n",
       "    </tr>\n",
       "    <tr>\n",
       "      <th>12</th>\n",
       "      <td>네이버 인공지능 스피커, 웨이브 사용기 2-활용성</td>\n",
       "      <td>2017-10-08 12:18:00</td>\n",
       "      <td>네이버 인공지능 스피커, 웨이브 사용기 2-활용성먼저 사과드리는 것은, 마땅한 사진...</td>\n",
       "      <td>http://blog.naver.com/PostView.nhn?blogId=plus...</td>\n",
       "      <td>네이버 인공지능 스피커 웨이브 사용기 활용성먼저 사과드리는 것은 마땅한 사진도 동영...</td>\n",
       "    </tr>\n",
       "  </tbody>\n",
       "</table>\n",
       "</div>"
      ],
      "text/plain": [
       "                                         title     publish_datetime  \\\n",
       "0        (스크랩)로엔엔터테인먼트의 멜론, 인공지능 스피커 덕에 급성장 확실  2017-10-01 22:17:00   \n",
       "1               대세는 인공지능 스피커! 네이버 웨이브 VS 카카오미니  2017-10-02 10:30:00   \n",
       "5                         카카오미니 완판!! 얼마나 좋길래??  2017-10-04 13:30:00   \n",
       "8   누구? 아리아? 모두가 헷갈리는 AI 스피커의 '이름들' 한방에 정리해 줄게  2017-10-05 17:24:00   \n",
       "12                 네이버 인공지능 스피커, 웨이브 사용기 2-활용성  2017-10-08 12:18:00   \n",
       "\n",
       "                                                 text  \\\n",
       "0                                                원문보기   \n",
       "1   안녕하세요. 에스메모, 앱 플레이 미뮤 등 다양한 IT Life 플랫폼 퍼블리싱 기...   \n",
       "5   안녕하세요~~오늘은 엄청 핫했던!!카카오미니에 대한 포스팅입니다^^!!이번에 9월 ...   \n",
       "8   최근 IT 대기업들이 AI 스피커 출시에 박차를 가하고 있다. 8, 9월에만 해도 ...   \n",
       "12  네이버 인공지능 스피커, 웨이브 사용기 2-활용성먼저 사과드리는 것은, 마땅한 사진...   \n",
       "\n",
       "                                                  url  \\\n",
       "0   http://blog.naver.com/PostView.nhn?blogId=m_co...   \n",
       "1   http://blog.naver.com/PostView.nhn?blogId=smar...   \n",
       "5   http://blog.naver.com/PostView.nhn?blogId=alse...   \n",
       "8   http://blog.naver.com/PostView.nhn?blogId=dohk...   \n",
       "12  http://blog.naver.com/PostView.nhn?blogId=plus...   \n",
       "\n",
       "                                    preprocessed_text  \n",
       "0                                                원문보기  \n",
       "1   안녕하세요. 에스메모 앱 플레이 미뮤 등 다양한 IT Life 플랫폼 퍼블리싱 기업...  \n",
       "5   안녕하세요 오늘은 엄청 핫했던!!카카오미니에 대한 포스팅입니다^^!!이번에 월 일 ...  \n",
       "8   최근 IT 대기업들이 AI 스피커 출시에 박차를 가하고 있다. 월에만 해도 네이버의...  \n",
       "12  네이버 인공지능 스피커 웨이브 사용기 활용성먼저 사과드리는 것은 마땅한 사진도 동영...  "
      ]
     },
     "execution_count": 47,
     "metadata": {},
     "output_type": "execute_result"
    }
   ],
   "source": [
    "final_df.head()"
   ]
  },
  {
   "cell_type": "code",
   "execution_count": 48,
   "metadata": {
    "collapsed": true
   },
   "outputs": [],
   "source": [
    "import nltk.tokenize\n",
    "final_df['sentence_text'] = final_df['preprocessed_text'].map(nltk.tokenize.sent_tokenize)"
   ]
  },
  {
   "cell_type": "code",
   "execution_count": 49,
   "metadata": {
    "collapsed": true
   },
   "outputs": [],
   "source": [
    "# 빈 데이터들을 다 삭제하고 난 뒤, 인덱스를 다시 0부터 순서대로 부여해 줌\n",
    "final_df.reset_index(drop=True, inplace=True)"
   ]
  },
  {
   "cell_type": "code",
   "execution_count": 50,
   "metadata": {},
   "outputs": [
    {
     "data": {
      "text/html": [
       "<div>\n",
       "<style scoped>\n",
       "    .dataframe tbody tr th:only-of-type {\n",
       "        vertical-align: middle;\n",
       "    }\n",
       "\n",
       "    .dataframe tbody tr th {\n",
       "        vertical-align: top;\n",
       "    }\n",
       "\n",
       "    .dataframe thead th {\n",
       "        text-align: right;\n",
       "    }\n",
       "</style>\n",
       "<table border=\"1\" class=\"dataframe\">\n",
       "  <thead>\n",
       "    <tr style=\"text-align: right;\">\n",
       "      <th></th>\n",
       "      <th>title</th>\n",
       "      <th>publish_datetime</th>\n",
       "      <th>text</th>\n",
       "      <th>url</th>\n",
       "      <th>preprocessed_text</th>\n",
       "      <th>sentence_text</th>\n",
       "    </tr>\n",
       "  </thead>\n",
       "  <tbody>\n",
       "    <tr>\n",
       "      <th>0</th>\n",
       "      <td>(스크랩)로엔엔터테인먼트의 멜론, 인공지능 스피커 덕에 급성장 확실</td>\n",
       "      <td>2017-10-01 22:17:00</td>\n",
       "      <td>원문보기</td>\n",
       "      <td>http://blog.naver.com/PostView.nhn?blogId=m_co...</td>\n",
       "      <td>원문보기</td>\n",
       "      <td>[원문보기]</td>\n",
       "    </tr>\n",
       "    <tr>\n",
       "      <th>1</th>\n",
       "      <td>대세는 인공지능 스피커! 네이버 웨이브 VS 카카오미니</td>\n",
       "      <td>2017-10-02 10:30:00</td>\n",
       "      <td>안녕하세요. 에스메모, 앱 플레이 미뮤 등 다양한 IT Life 플랫폼 퍼블리싱 기...</td>\n",
       "      <td>http://blog.naver.com/PostView.nhn?blogId=smar...</td>\n",
       "      <td>안녕하세요. 에스메모 앱 플레이 미뮤 등 다양한 IT Life 플랫폼 퍼블리싱 기업...</td>\n",
       "      <td>[안녕하세요., 에스메모 앱 플레이 미뮤 등 다양한 IT Life 플랫폼 퍼블리싱 ...</td>\n",
       "    </tr>\n",
       "    <tr>\n",
       "      <th>2</th>\n",
       "      <td>카카오미니 완판!! 얼마나 좋길래??</td>\n",
       "      <td>2017-10-04 13:30:00</td>\n",
       "      <td>안녕하세요~~오늘은 엄청 핫했던!!카카오미니에 대한 포스팅입니다^^!!이번에 9월 ...</td>\n",
       "      <td>http://blog.naver.com/PostView.nhn?blogId=alse...</td>\n",
       "      <td>안녕하세요 오늘은 엄청 핫했던!!카카오미니에 대한 포스팅입니다^^!!이번에 월 일 ...</td>\n",
       "      <td>[안녕하세요 오늘은 엄청 핫했던!, !카카오미니에 대한 포스팅입니다^^!, !이번에...</td>\n",
       "    </tr>\n",
       "    <tr>\n",
       "      <th>3</th>\n",
       "      <td>누구? 아리아? 모두가 헷갈리는 AI 스피커의 '이름들' 한방에 정리해 줄게</td>\n",
       "      <td>2017-10-05 17:24:00</td>\n",
       "      <td>최근 IT 대기업들이 AI 스피커 출시에 박차를 가하고 있다. 8, 9월에만 해도 ...</td>\n",
       "      <td>http://blog.naver.com/PostView.nhn?blogId=dohk...</td>\n",
       "      <td>최근 IT 대기업들이 AI 스피커 출시에 박차를 가하고 있다. 월에만 해도 네이버의...</td>\n",
       "      <td>[최근 IT 대기업들이 AI 스피커 출시에 박차를 가하고 있다., 월에만 해도 네이...</td>\n",
       "    </tr>\n",
       "    <tr>\n",
       "      <th>4</th>\n",
       "      <td>네이버 인공지능 스피커, 웨이브 사용기 2-활용성</td>\n",
       "      <td>2017-10-08 12:18:00</td>\n",
       "      <td>네이버 인공지능 스피커, 웨이브 사용기 2-활용성먼저 사과드리는 것은, 마땅한 사진...</td>\n",
       "      <td>http://blog.naver.com/PostView.nhn?blogId=plus...</td>\n",
       "      <td>네이버 인공지능 스피커 웨이브 사용기 활용성먼저 사과드리는 것은 마땅한 사진도 동영...</td>\n",
       "      <td>[네이버 인공지능 스피커 웨이브 사용기 활용성먼저 사과드리는 것은 마땅한 사진도 동...</td>\n",
       "    </tr>\n",
       "  </tbody>\n",
       "</table>\n",
       "</div>"
      ],
      "text/plain": [
       "                                        title     publish_datetime  \\\n",
       "0       (스크랩)로엔엔터테인먼트의 멜론, 인공지능 스피커 덕에 급성장 확실  2017-10-01 22:17:00   \n",
       "1              대세는 인공지능 스피커! 네이버 웨이브 VS 카카오미니  2017-10-02 10:30:00   \n",
       "2                        카카오미니 완판!! 얼마나 좋길래??  2017-10-04 13:30:00   \n",
       "3  누구? 아리아? 모두가 헷갈리는 AI 스피커의 '이름들' 한방에 정리해 줄게  2017-10-05 17:24:00   \n",
       "4                 네이버 인공지능 스피커, 웨이브 사용기 2-활용성  2017-10-08 12:18:00   \n",
       "\n",
       "                                                text  \\\n",
       "0                                               원문보기   \n",
       "1  안녕하세요. 에스메모, 앱 플레이 미뮤 등 다양한 IT Life 플랫폼 퍼블리싱 기...   \n",
       "2  안녕하세요~~오늘은 엄청 핫했던!!카카오미니에 대한 포스팅입니다^^!!이번에 9월 ...   \n",
       "3  최근 IT 대기업들이 AI 스피커 출시에 박차를 가하고 있다. 8, 9월에만 해도 ...   \n",
       "4  네이버 인공지능 스피커, 웨이브 사용기 2-활용성먼저 사과드리는 것은, 마땅한 사진...   \n",
       "\n",
       "                                                 url  \\\n",
       "0  http://blog.naver.com/PostView.nhn?blogId=m_co...   \n",
       "1  http://blog.naver.com/PostView.nhn?blogId=smar...   \n",
       "2  http://blog.naver.com/PostView.nhn?blogId=alse...   \n",
       "3  http://blog.naver.com/PostView.nhn?blogId=dohk...   \n",
       "4  http://blog.naver.com/PostView.nhn?blogId=plus...   \n",
       "\n",
       "                                   preprocessed_text  \\\n",
       "0                                               원문보기   \n",
       "1  안녕하세요. 에스메모 앱 플레이 미뮤 등 다양한 IT Life 플랫폼 퍼블리싱 기업...   \n",
       "2  안녕하세요 오늘은 엄청 핫했던!!카카오미니에 대한 포스팅입니다^^!!이번에 월 일 ...   \n",
       "3  최근 IT 대기업들이 AI 스피커 출시에 박차를 가하고 있다. 월에만 해도 네이버의...   \n",
       "4  네이버 인공지능 스피커 웨이브 사용기 활용성먼저 사과드리는 것은 마땅한 사진도 동영...   \n",
       "\n",
       "                                       sentence_text  \n",
       "0                                             [원문보기]  \n",
       "1  [안녕하세요., 에스메모 앱 플레이 미뮤 등 다양한 IT Life 플랫폼 퍼블리싱 ...  \n",
       "2  [안녕하세요 오늘은 엄청 핫했던!, !카카오미니에 대한 포스팅입니다^^!, !이번에...  \n",
       "3  [최근 IT 대기업들이 AI 스피커 출시에 박차를 가하고 있다., 월에만 해도 네이...  \n",
       "4  [네이버 인공지능 스피커 웨이브 사용기 활용성먼저 사과드리는 것은 마땅한 사진도 동...  "
      ]
     },
     "execution_count": 50,
     "metadata": {},
     "output_type": "execute_result"
    }
   ],
   "source": [
    "final_df.head()"
   ]
  },
  {
   "cell_type": "code",
   "execution_count": 51,
   "metadata": {
    "collapsed": true
   },
   "outputs": [],
   "source": [
    "doc_index_list = []\n",
    "sentence_list = []\n",
    "sentence_idx_list = []\n",
    "\n",
    "for doc_idx, sentence_text in enumerate(final_df['sentence_text']):\n",
    "    length = len(sentence_text)\n",
    "    for sent_idx, sent in enumerate(sentence_text):\n",
    "        doc_index_list.append(doc_idx)\n",
    "        sentence_idx_list.append(sent_idx)\n",
    "        sentence_list.append(sent)"
   ]
  },
  {
   "cell_type": "code",
   "execution_count": 52,
   "metadata": {},
   "outputs": [
    {
     "data": {
      "text/html": [
       "<div>\n",
       "<style scoped>\n",
       "    .dataframe tbody tr th:only-of-type {\n",
       "        vertical-align: middle;\n",
       "    }\n",
       "\n",
       "    .dataframe tbody tr th {\n",
       "        vertical-align: top;\n",
       "    }\n",
       "\n",
       "    .dataframe thead th {\n",
       "        text-align: right;\n",
       "    }\n",
       "</style>\n",
       "<table border=\"1\" class=\"dataframe\">\n",
       "  <thead>\n",
       "    <tr style=\"text-align: right;\">\n",
       "      <th></th>\n",
       "      <th>document_index</th>\n",
       "      <th>sentence_index</th>\n",
       "      <th>sentence</th>\n",
       "    </tr>\n",
       "  </thead>\n",
       "  <tbody>\n",
       "    <tr>\n",
       "      <th>0</th>\n",
       "      <td>0</td>\n",
       "      <td>0</td>\n",
       "      <td>원문보기</td>\n",
       "    </tr>\n",
       "    <tr>\n",
       "      <th>1</th>\n",
       "      <td>1</td>\n",
       "      <td>0</td>\n",
       "      <td>안녕하세요.</td>\n",
       "    </tr>\n",
       "    <tr>\n",
       "      <th>2</th>\n",
       "      <td>1</td>\n",
       "      <td>1</td>\n",
       "      <td>에스메모 앱 플레이 미뮤 등 다양한 IT Life 플랫폼 퍼블리싱 기업 민앤지 매니...</td>\n",
       "    </tr>\n",
       "    <tr>\n",
       "      <th>3</th>\n",
       "      <td>1</td>\n",
       "      <td>2</td>\n",
       "      <td>얼마 전 실시간 검색 위에 오른 카카오미니 덕분에 인공지능 스피커에 대한 관심이 더...</td>\n",
       "    </tr>\n",
       "    <tr>\n",
       "      <th>4</th>\n",
       "      <td>1</td>\n",
       "      <td>3</td>\n",
       "      <td>아직까지는 우리에게 낯설기도 한 인공지능 스피커 과연 어떤 것이고 최근 출시된 네이...</td>\n",
       "    </tr>\n",
       "  </tbody>\n",
       "</table>\n",
       "</div>"
      ],
      "text/plain": [
       "   document_index  sentence_index  \\\n",
       "0               0               0   \n",
       "1               1               0   \n",
       "2               1               1   \n",
       "3               1               2   \n",
       "4               1               3   \n",
       "\n",
       "                                            sentence  \n",
       "0                                               원문보기  \n",
       "1                                             안녕하세요.  \n",
       "2  에스메모 앱 플레이 미뮤 등 다양한 IT Life 플랫폼 퍼블리싱 기업 민앤지 매니...  \n",
       "3  얼마 전 실시간 검색 위에 오른 카카오미니 덕분에 인공지능 스피커에 대한 관심이 더...  \n",
       "4  아직까지는 우리에게 낯설기도 한 인공지능 스피커 과연 어떤 것이고 최근 출시된 네이...  "
      ]
     },
     "execution_count": 52,
     "metadata": {},
     "output_type": "execute_result"
    }
   ],
   "source": [
    "sentiment_df = pd.DataFrame({'document_index': doc_index_list, 'sentence_index': sentence_idx_list, 'sentence': sentence_list})\n",
    "sentiment_df.head()"
   ]
  },
  {
   "cell_type": "code",
   "execution_count": 53,
   "metadata": {
    "collapsed": true,
    "scrolled": true
   },
   "outputs": [],
   "source": [
    "sample_df = sentiment_df.sample(frac=1)"
   ]
  },
  {
   "cell_type": "code",
   "execution_count": 54,
   "metadata": {},
   "outputs": [
    {
     "data": {
      "text/html": [
       "<div>\n",
       "<style scoped>\n",
       "    .dataframe tbody tr th:only-of-type {\n",
       "        vertical-align: middle;\n",
       "    }\n",
       "\n",
       "    .dataframe tbody tr th {\n",
       "        vertical-align: top;\n",
       "    }\n",
       "\n",
       "    .dataframe thead th {\n",
       "        text-align: right;\n",
       "    }\n",
       "</style>\n",
       "<table border=\"1\" class=\"dataframe\">\n",
       "  <thead>\n",
       "    <tr style=\"text-align: right;\">\n",
       "      <th></th>\n",
       "      <th>document_index</th>\n",
       "      <th>sentence_index</th>\n",
       "      <th>sentence</th>\n",
       "    </tr>\n",
       "  </thead>\n",
       "  <tbody>\n",
       "    <tr>\n",
       "      <th>740</th>\n",
       "      <td>42</td>\n",
       "      <td>34</td>\n",
       "      <td>!</td>\n",
       "    </tr>\n",
       "    <tr>\n",
       "      <th>16056</th>\n",
       "      <td>1010</td>\n",
       "      <td>3</td>\n",
       "      <td>대도서관 싸인도 있어서 더 좋았습니다.얼렁 책 읽어봐야겠어요</td>\n",
       "    </tr>\n",
       "    <tr>\n",
       "      <th>29227</th>\n",
       "      <td>1542</td>\n",
       "      <td>23</td>\n",
       "      <td>명령어를 멈출 때도 카카오 멈춰하면 되는데 클로바 띠링 멈춰는 엄청나게 불편하거든요...</td>\n",
       "    </tr>\n",
       "    <tr>\n",
       "      <th>28101</th>\n",
       "      <td>1497</td>\n",
       "      <td>36</td>\n",
       "      <td>게다가 개인 정보 이슈가 민감한 지금 사람들이 어느 정도까지 자신의 정보를 공유하고...</td>\n",
       "    </tr>\n",
       "    <tr>\n",
       "      <th>37735</th>\n",
       "      <td>1878</td>\n",
       "      <td>164</td>\n",
       "      <td>여러분도 기회가 되면 한번 사용해 보세요.</td>\n",
       "    </tr>\n",
       "  </tbody>\n",
       "</table>\n",
       "</div>"
      ],
      "text/plain": [
       "       document_index  sentence_index  \\\n",
       "740                42              34   \n",
       "16056            1010               3   \n",
       "29227            1542              23   \n",
       "28101            1497              36   \n",
       "37735            1878             164   \n",
       "\n",
       "                                                sentence  \n",
       "740                                                    !  \n",
       "16056                  대도서관 싸인도 있어서 더 좋았습니다.얼렁 책 읽어봐야겠어요  \n",
       "29227  명령어를 멈출 때도 카카오 멈춰하면 되는데 클로바 띠링 멈춰는 엄청나게 불편하거든요...  \n",
       "28101  게다가 개인 정보 이슈가 민감한 지금 사람들이 어느 정도까지 자신의 정보를 공유하고...  \n",
       "37735                            여러분도 기회가 되면 한번 사용해 보세요.  "
      ]
     },
     "execution_count": 54,
     "metadata": {},
     "output_type": "execute_result"
    }
   ],
   "source": [
    "sample_df.head()"
   ]
  },
  {
   "cell_type": "code",
   "execution_count": 56,
   "metadata": {
    "collapsed": true
   },
   "outputs": [],
   "source": [
    "sample_df.to_csv(\"./\"+ name +\"_shuffle_labeling.csv\", encoding='utf-8')"
   ]
  },
  {
   "cell_type": "code",
   "execution_count": 57,
   "metadata": {
    "collapsed": true
   },
   "outputs": [],
   "source": [
    "sample_df[:1000].to_excel(\"./\"+worker+\"_\"+ name +\"_labeling.xlsx\", encoding='utf-8')"
   ]
  },
  {
   "cell_type": "markdown",
   "metadata": {},
   "source": [
    "<br/><br/>\n",
    "### 기가지니 1000개"
   ]
  },
  {
   "cell_type": "code",
   "execution_count": 58,
   "metadata": {
    "collapsed": true
   },
   "outputs": [],
   "source": [
    "df = genie_blog_df\n",
    "name = \"gigagenie\"\n",
    "worker = \"영관\""
   ]
  },
  {
   "cell_type": "code",
   "execution_count": 59,
   "metadata": {},
   "outputs": [
    {
     "data": {
      "text/html": [
       "<div>\n",
       "<style scoped>\n",
       "    .dataframe tbody tr th:only-of-type {\n",
       "        vertical-align: middle;\n",
       "    }\n",
       "\n",
       "    .dataframe tbody tr th {\n",
       "        vertical-align: top;\n",
       "    }\n",
       "\n",
       "    .dataframe thead th {\n",
       "        text-align: right;\n",
       "    }\n",
       "</style>\n",
       "<table border=\"1\" class=\"dataframe\">\n",
       "  <thead>\n",
       "    <tr style=\"text-align: right;\">\n",
       "      <th></th>\n",
       "      <th>title</th>\n",
       "      <th>publish_datetime</th>\n",
       "      <th>text</th>\n",
       "      <th>url</th>\n",
       "    </tr>\n",
       "  </thead>\n",
       "  <tbody>\n",
       "    <tr>\n",
       "      <th>0</th>\n",
       "      <td>내년엔 수많은 AI 비서들이 줄 섭니다…네이버·KT·LGU+에 삼성전자까지 가세</td>\n",
       "      <td>2016-12-16 15:25:00</td>\n",
       "      <td>NaN</td>\n",
       "      <td>http://blog.naver.com/PostView.nhn?blogId=sbki...</td>\n",
       "    </tr>\n",
       "    <tr>\n",
       "      <th>1</th>\n",
       "      <td>\"사물을 연결하라\"...그 다음은? [이코노믹리뷰]</td>\n",
       "      <td>2016-12-16 16:23:00</td>\n",
       "      <td>NaN</td>\n",
       "      <td>http://blog.naver.com/PostView.nhn?blogId=hone...</td>\n",
       "    </tr>\n",
       "    <tr>\n",
       "      <th>2</th>\n",
       "      <td>2017, 'AI비서'들이 거실로 몰려온다/국내 이통3사, 일제히 경쟁 돌입…IPT...</td>\n",
       "      <td>2016-12-19 02:10:00</td>\n",
       "      <td>NaN</td>\n",
       "      <td>http://blog.naver.com/PostView.nhn?blogId=hico...</td>\n",
       "    </tr>\n",
       "    <tr>\n",
       "      <th>3</th>\n",
       "      <td>지금 ICT업계 핫이슈는 음석인식 기술</td>\n",
       "      <td>2016-12-19 16:56:00</td>\n",
       "      <td>NaN</td>\n",
       "      <td>http://blog.naver.com/PostView.nhn?blogId=just...</td>\n",
       "    </tr>\n",
       "    <tr>\n",
       "      <th>4</th>\n",
       "      <td>인공지능 스피커</td>\n",
       "      <td>2016-12-22 09:58:00</td>\n",
       "      <td>NaN</td>\n",
       "      <td>http://blog.naver.com/PostView.nhn?blogId=hmmo...</td>\n",
       "    </tr>\n",
       "  </tbody>\n",
       "</table>\n",
       "</div>"
      ],
      "text/plain": [
       "                                               title     publish_datetime  \\\n",
       "0       내년엔 수많은 AI 비서들이 줄 섭니다…네이버·KT·LGU+에 삼성전자까지 가세  2016-12-16 15:25:00   \n",
       "1                       \"사물을 연결하라\"...그 다음은? [이코노믹리뷰]  2016-12-16 16:23:00   \n",
       "2  2017, 'AI비서'들이 거실로 몰려온다/국내 이통3사, 일제히 경쟁 돌입…IPT...  2016-12-19 02:10:00   \n",
       "3                              지금 ICT업계 핫이슈는 음석인식 기술  2016-12-19 16:56:00   \n",
       "4                                           인공지능 스피커  2016-12-22 09:58:00   \n",
       "\n",
       "  text                                                url  \n",
       "0  NaN  http://blog.naver.com/PostView.nhn?blogId=sbki...  \n",
       "1  NaN  http://blog.naver.com/PostView.nhn?blogId=hone...  \n",
       "2  NaN  http://blog.naver.com/PostView.nhn?blogId=hico...  \n",
       "3  NaN  http://blog.naver.com/PostView.nhn?blogId=just...  \n",
       "4  NaN  http://blog.naver.com/PostView.nhn?blogId=hmmo...  "
      ]
     },
     "execution_count": 59,
     "metadata": {},
     "output_type": "execute_result"
    }
   ],
   "source": [
    "df.head()"
   ]
  },
  {
   "cell_type": "code",
   "execution_count": 60,
   "metadata": {},
   "outputs": [
    {
     "data": {
      "text/plain": [
       "3522"
      ]
     },
     "execution_count": 60,
     "metadata": {},
     "output_type": "execute_result"
    }
   ],
   "source": [
    "len(df)"
   ]
  },
  {
   "cell_type": "code",
   "execution_count": 61,
   "metadata": {
    "collapsed": true
   },
   "outputs": [],
   "source": [
    "df = df[df['text'].notnull()].copy()"
   ]
  },
  {
   "cell_type": "code",
   "execution_count": 62,
   "metadata": {},
   "outputs": [
    {
     "data": {
      "text/plain": [
       "2231"
      ]
     },
     "execution_count": 62,
     "metadata": {},
     "output_type": "execute_result"
    }
   ],
   "source": [
    "len(df)"
   ]
  },
  {
   "cell_type": "code",
   "execution_count": 63,
   "metadata": {
    "collapsed": true
   },
   "outputs": [],
   "source": [
    "df[\"preprocessed_text\"] = df['text'].map(clear_content) "
   ]
  },
  {
   "cell_type": "code",
   "execution_count": 64,
   "metadata": {},
   "outputs": [
    {
     "name": "stdout",
     "output_type": "stream",
     "text": [
      "[]\n"
     ]
    }
   ],
   "source": [
    "del_idx = []\n",
    "for num, i in enumerate(df['preprocessed_text']):\n",
    "    if i == '' or i == None or i == ' ':\n",
    "        del_idx.append(num)\n",
    "print(del_idx)"
   ]
  },
  {
   "cell_type": "code",
   "execution_count": 65,
   "metadata": {},
   "outputs": [
    {
     "data": {
      "text/html": [
       "<div>\n",
       "<style scoped>\n",
       "    .dataframe tbody tr th:only-of-type {\n",
       "        vertical-align: middle;\n",
       "    }\n",
       "\n",
       "    .dataframe tbody tr th {\n",
       "        vertical-align: top;\n",
       "    }\n",
       "\n",
       "    .dataframe thead th {\n",
       "        text-align: right;\n",
       "    }\n",
       "</style>\n",
       "<table border=\"1\" class=\"dataframe\">\n",
       "  <thead>\n",
       "    <tr style=\"text-align: right;\">\n",
       "      <th></th>\n",
       "      <th>title</th>\n",
       "      <th>publish_datetime</th>\n",
       "      <th>text</th>\n",
       "      <th>url</th>\n",
       "      <th>preprocessed_text</th>\n",
       "    </tr>\n",
       "  </thead>\n",
       "  <tbody>\n",
       "  </tbody>\n",
       "</table>\n",
       "</div>"
      ],
      "text/plain": [
       "Empty DataFrame\n",
       "Columns: [title, publish_datetime, text, url, preprocessed_text]\n",
       "Index: []"
      ]
     },
     "execution_count": 65,
     "metadata": {},
     "output_type": "execute_result"
    }
   ],
   "source": [
    "df[df['preprocessed_text'].isnull()]"
   ]
  },
  {
   "cell_type": "code",
   "execution_count": 66,
   "metadata": {
    "collapsed": true
   },
   "outputs": [],
   "source": [
    "final_df = df.drop(df.index[del_idx]).copy()"
   ]
  },
  {
   "cell_type": "code",
   "execution_count": 67,
   "metadata": {},
   "outputs": [
    {
     "data": {
      "text/html": [
       "<div>\n",
       "<style scoped>\n",
       "    .dataframe tbody tr th:only-of-type {\n",
       "        vertical-align: middle;\n",
       "    }\n",
       "\n",
       "    .dataframe tbody tr th {\n",
       "        vertical-align: top;\n",
       "    }\n",
       "\n",
       "    .dataframe thead th {\n",
       "        text-align: right;\n",
       "    }\n",
       "</style>\n",
       "<table border=\"1\" class=\"dataframe\">\n",
       "  <thead>\n",
       "    <tr style=\"text-align: right;\">\n",
       "      <th></th>\n",
       "      <th>title</th>\n",
       "      <th>publish_datetime</th>\n",
       "      <th>text</th>\n",
       "      <th>url</th>\n",
       "      <th>preprocessed_text</th>\n",
       "    </tr>\n",
       "  </thead>\n",
       "  <tbody>\n",
       "    <tr>\n",
       "      <th>7</th>\n",
       "      <td>[2016.12.26 뉴스클리핑] ▲네이버·다음 실시간 검색어 '정부요청시 삭제' ...</td>\n",
       "      <td>2016-12-26 15:38:00</td>\n",
       "      <td>\"2012년 만든 조항, 실행한 적은 없다\" 주장… 자동완성·연관 검색어도 개입 네...</td>\n",
       "      <td>http://blog.naver.com/PostView.nhn?blogId=kiss...</td>\n",
       "      <td>년 만든 조항 실행한 적은 없다 주장 자동완성연관 검색어도 개입 네이버 연합뉴스 취...</td>\n",
       "    </tr>\n",
       "    <tr>\n",
       "      <th>8</th>\n",
       "      <td>수감번호 628번 최순실 '27년만의 감방 청문회'···2시간 30분간 추궁에 '모르쇠'</td>\n",
       "      <td>2016-12-27 12:01:00</td>\n",
       "      <td>*2016년 12월 27일 매일경제 기사 요약*\\n\"김기춘과 우병우, 김장자는 전혀...</td>\n",
       "      <td>http://blog.naver.com/PostView.nhn?blogId=chin...</td>\n",
       "      <td>년 월 일 매일경제 기사 요약 김기춘과 우병우 김장자는 전혀 모른다.종신형도 각오하...</td>\n",
       "    </tr>\n",
       "    <tr>\n",
       "      <th>10</th>\n",
       "      <td>[주식] 음성인식 관련주</td>\n",
       "      <td>2016-12-28 08:37:00</td>\n",
       "      <td>■ 음성인식음성 인식(Speech Recognition)이란 사람이 말하는 음성 언...</td>\n",
       "      <td>http://blog.naver.com/PostView.nhn?blogId=retu...</td>\n",
       "      <td>음성인식음성 인식 Speech Recognition이란 사람이 말하는 음성 언어를 ...</td>\n",
       "    </tr>\n",
       "    <tr>\n",
       "      <th>12</th>\n",
       "      <td>SKT, '누구'와 ‘왓슨’ 결합해 글로벌 시장 공략한다\"...KT·LGU+ \"AI...</td>\n",
       "      <td>2017-01-06 15:34:00</td>\n",
       "      <td>SK텔레콤은 인공지능(AI) 기반 음성비서 서비스 '누구(NUGU)'에 IBM의 '...</td>\n",
       "      <td>http://blog.naver.com/PostView.nhn?blogId=suno...</td>\n",
       "      <td>SK텔레콤은 인공지능 AI 기반 음성비서 서비스 누구 NUGU에 IBM의 왓슨 WA...</td>\n",
       "    </tr>\n",
       "    <tr>\n",
       "      <th>26</th>\n",
       "      <td>말로 하는 ‘AI 비서’ 개발 경쟁 치열</td>\n",
       "      <td>2017-01-15 15:23:00</td>\n",
       "      <td>글로벌 IT기업들의 인공지능(AI) 스피커, 음성 관련 기술을 둘러싼 경쟁이 본격화...</td>\n",
       "      <td>http://blog.naver.com/PostView.nhn?blogId=duop...</td>\n",
       "      <td>글로벌 IT기업들의 인공지능 AI 스피커 음성 관련 기술을 둘러싼 경쟁이 본격화되고...</td>\n",
       "    </tr>\n",
       "  </tbody>\n",
       "</table>\n",
       "</div>"
      ],
      "text/plain": [
       "                                                title     publish_datetime  \\\n",
       "7   [2016.12.26 뉴스클리핑] ▲네이버·다음 실시간 검색어 '정부요청시 삭제' ...  2016-12-26 15:38:00   \n",
       "8   수감번호 628번 최순실 '27년만의 감방 청문회'···2시간 30분간 추궁에 '모르쇠'  2016-12-27 12:01:00   \n",
       "10                                      [주식] 음성인식 관련주  2016-12-28 08:37:00   \n",
       "12  SKT, '누구'와 ‘왓슨’ 결합해 글로벌 시장 공략한다\"...KT·LGU+ \"AI...  2017-01-06 15:34:00   \n",
       "26                             말로 하는 ‘AI 비서’ 개발 경쟁 치열  2017-01-15 15:23:00   \n",
       "\n",
       "                                                 text  \\\n",
       "7   \"2012년 만든 조항, 실행한 적은 없다\" 주장… 자동완성·연관 검색어도 개입 네...   \n",
       "8   *2016년 12월 27일 매일경제 기사 요약*\\n\"김기춘과 우병우, 김장자는 전혀...   \n",
       "10  ■ 음성인식음성 인식(Speech Recognition)이란 사람이 말하는 음성 언...   \n",
       "12  SK텔레콤은 인공지능(AI) 기반 음성비서 서비스 '누구(NUGU)'에 IBM의 '...   \n",
       "26  글로벌 IT기업들의 인공지능(AI) 스피커, 음성 관련 기술을 둘러싼 경쟁이 본격화...   \n",
       "\n",
       "                                                  url  \\\n",
       "7   http://blog.naver.com/PostView.nhn?blogId=kiss...   \n",
       "8   http://blog.naver.com/PostView.nhn?blogId=chin...   \n",
       "10  http://blog.naver.com/PostView.nhn?blogId=retu...   \n",
       "12  http://blog.naver.com/PostView.nhn?blogId=suno...   \n",
       "26  http://blog.naver.com/PostView.nhn?blogId=duop...   \n",
       "\n",
       "                                    preprocessed_text  \n",
       "7   년 만든 조항 실행한 적은 없다 주장 자동완성연관 검색어도 개입 네이버 연합뉴스 취...  \n",
       "8   년 월 일 매일경제 기사 요약 김기춘과 우병우 김장자는 전혀 모른다.종신형도 각오하...  \n",
       "10  음성인식음성 인식 Speech Recognition이란 사람이 말하는 음성 언어를 ...  \n",
       "12  SK텔레콤은 인공지능 AI 기반 음성비서 서비스 누구 NUGU에 IBM의 왓슨 WA...  \n",
       "26  글로벌 IT기업들의 인공지능 AI 스피커 음성 관련 기술을 둘러싼 경쟁이 본격화되고...  "
      ]
     },
     "execution_count": 67,
     "metadata": {},
     "output_type": "execute_result"
    }
   ],
   "source": [
    "final_df.head()"
   ]
  },
  {
   "cell_type": "code",
   "execution_count": 68,
   "metadata": {
    "collapsed": true
   },
   "outputs": [],
   "source": [
    "import nltk.tokenize\n",
    "final_df['sentence_text'] = final_df['preprocessed_text'].map(nltk.tokenize.sent_tokenize)"
   ]
  },
  {
   "cell_type": "code",
   "execution_count": 69,
   "metadata": {
    "collapsed": true
   },
   "outputs": [],
   "source": [
    "# 빈 데이터들을 다 삭제하고 난 뒤, 인덱스를 다시 0부터 순서대로 부여해 줌\n",
    "final_df.reset_index(drop=True, inplace=True)"
   ]
  },
  {
   "cell_type": "code",
   "execution_count": 70,
   "metadata": {},
   "outputs": [
    {
     "data": {
      "text/html": [
       "<div>\n",
       "<style scoped>\n",
       "    .dataframe tbody tr th:only-of-type {\n",
       "        vertical-align: middle;\n",
       "    }\n",
       "\n",
       "    .dataframe tbody tr th {\n",
       "        vertical-align: top;\n",
       "    }\n",
       "\n",
       "    .dataframe thead th {\n",
       "        text-align: right;\n",
       "    }\n",
       "</style>\n",
       "<table border=\"1\" class=\"dataframe\">\n",
       "  <thead>\n",
       "    <tr style=\"text-align: right;\">\n",
       "      <th></th>\n",
       "      <th>title</th>\n",
       "      <th>publish_datetime</th>\n",
       "      <th>text</th>\n",
       "      <th>url</th>\n",
       "      <th>preprocessed_text</th>\n",
       "      <th>sentence_text</th>\n",
       "    </tr>\n",
       "  </thead>\n",
       "  <tbody>\n",
       "    <tr>\n",
       "      <th>0</th>\n",
       "      <td>[2016.12.26 뉴스클리핑] ▲네이버·다음 실시간 검색어 '정부요청시 삭제' ...</td>\n",
       "      <td>2016-12-26 15:38:00</td>\n",
       "      <td>\"2012년 만든 조항, 실행한 적은 없다\" 주장… 자동완성·연관 검색어도 개입 네...</td>\n",
       "      <td>http://blog.naver.com/PostView.nhn?blogId=kiss...</td>\n",
       "      <td>년 만든 조항 실행한 적은 없다 주장 자동완성연관 검색어도 개입 네이버 연합뉴스 취...</td>\n",
       "      <td>[년 만든 조항 실행한 적은 없다 주장 자동완성연관 검색어도 개입 네이버 연합뉴스 ...</td>\n",
       "    </tr>\n",
       "    <tr>\n",
       "      <th>1</th>\n",
       "      <td>수감번호 628번 최순실 '27년만의 감방 청문회'···2시간 30분간 추궁에 '모르쇠'</td>\n",
       "      <td>2016-12-27 12:01:00</td>\n",
       "      <td>*2016년 12월 27일 매일경제 기사 요약*\\n\"김기춘과 우병우, 김장자는 전혀...</td>\n",
       "      <td>http://blog.naver.com/PostView.nhn?blogId=chin...</td>\n",
       "      <td>년 월 일 매일경제 기사 요약 김기춘과 우병우 김장자는 전혀 모른다.종신형도 각오하...</td>\n",
       "      <td>[년 월 일 매일경제 기사 요약 김기춘과 우병우 김장자는 전혀 모른다.종신형도 각오...</td>\n",
       "    </tr>\n",
       "    <tr>\n",
       "      <th>2</th>\n",
       "      <td>[주식] 음성인식 관련주</td>\n",
       "      <td>2016-12-28 08:37:00</td>\n",
       "      <td>■ 음성인식음성 인식(Speech Recognition)이란 사람이 말하는 음성 언...</td>\n",
       "      <td>http://blog.naver.com/PostView.nhn?blogId=retu...</td>\n",
       "      <td>음성인식음성 인식 Speech Recognition이란 사람이 말하는 음성 언어를 ...</td>\n",
       "      <td>[음성인식음성 인식 Speech Recognition이란 사람이 말하는 음성 언어를...</td>\n",
       "    </tr>\n",
       "    <tr>\n",
       "      <th>3</th>\n",
       "      <td>SKT, '누구'와 ‘왓슨’ 결합해 글로벌 시장 공략한다\"...KT·LGU+ \"AI...</td>\n",
       "      <td>2017-01-06 15:34:00</td>\n",
       "      <td>SK텔레콤은 인공지능(AI) 기반 음성비서 서비스 '누구(NUGU)'에 IBM의 '...</td>\n",
       "      <td>http://blog.naver.com/PostView.nhn?blogId=suno...</td>\n",
       "      <td>SK텔레콤은 인공지능 AI 기반 음성비서 서비스 누구 NUGU에 IBM의 왓슨 WA...</td>\n",
       "      <td>[SK텔레콤은 인공지능 AI 기반 음성비서 서비스 누구 NUGU에 IBM의 왓슨 W...</td>\n",
       "    </tr>\n",
       "    <tr>\n",
       "      <th>4</th>\n",
       "      <td>말로 하는 ‘AI 비서’ 개발 경쟁 치열</td>\n",
       "      <td>2017-01-15 15:23:00</td>\n",
       "      <td>글로벌 IT기업들의 인공지능(AI) 스피커, 음성 관련 기술을 둘러싼 경쟁이 본격화...</td>\n",
       "      <td>http://blog.naver.com/PostView.nhn?blogId=duop...</td>\n",
       "      <td>글로벌 IT기업들의 인공지능 AI 스피커 음성 관련 기술을 둘러싼 경쟁이 본격화되고...</td>\n",
       "      <td>[글로벌 IT기업들의 인공지능 AI 스피커 음성 관련 기술을 둘러싼 경쟁이 본격화되...</td>\n",
       "    </tr>\n",
       "  </tbody>\n",
       "</table>\n",
       "</div>"
      ],
      "text/plain": [
       "                                               title     publish_datetime  \\\n",
       "0  [2016.12.26 뉴스클리핑] ▲네이버·다음 실시간 검색어 '정부요청시 삭제' ...  2016-12-26 15:38:00   \n",
       "1  수감번호 628번 최순실 '27년만의 감방 청문회'···2시간 30분간 추궁에 '모르쇠'  2016-12-27 12:01:00   \n",
       "2                                      [주식] 음성인식 관련주  2016-12-28 08:37:00   \n",
       "3  SKT, '누구'와 ‘왓슨’ 결합해 글로벌 시장 공략한다\"...KT·LGU+ \"AI...  2017-01-06 15:34:00   \n",
       "4                             말로 하는 ‘AI 비서’ 개발 경쟁 치열  2017-01-15 15:23:00   \n",
       "\n",
       "                                                text  \\\n",
       "0  \"2012년 만든 조항, 실행한 적은 없다\" 주장… 자동완성·연관 검색어도 개입 네...   \n",
       "1  *2016년 12월 27일 매일경제 기사 요약*\\n\"김기춘과 우병우, 김장자는 전혀...   \n",
       "2  ■ 음성인식음성 인식(Speech Recognition)이란 사람이 말하는 음성 언...   \n",
       "3  SK텔레콤은 인공지능(AI) 기반 음성비서 서비스 '누구(NUGU)'에 IBM의 '...   \n",
       "4  글로벌 IT기업들의 인공지능(AI) 스피커, 음성 관련 기술을 둘러싼 경쟁이 본격화...   \n",
       "\n",
       "                                                 url  \\\n",
       "0  http://blog.naver.com/PostView.nhn?blogId=kiss...   \n",
       "1  http://blog.naver.com/PostView.nhn?blogId=chin...   \n",
       "2  http://blog.naver.com/PostView.nhn?blogId=retu...   \n",
       "3  http://blog.naver.com/PostView.nhn?blogId=suno...   \n",
       "4  http://blog.naver.com/PostView.nhn?blogId=duop...   \n",
       "\n",
       "                                   preprocessed_text  \\\n",
       "0  년 만든 조항 실행한 적은 없다 주장 자동완성연관 검색어도 개입 네이버 연합뉴스 취...   \n",
       "1  년 월 일 매일경제 기사 요약 김기춘과 우병우 김장자는 전혀 모른다.종신형도 각오하...   \n",
       "2  음성인식음성 인식 Speech Recognition이란 사람이 말하는 음성 언어를 ...   \n",
       "3  SK텔레콤은 인공지능 AI 기반 음성비서 서비스 누구 NUGU에 IBM의 왓슨 WA...   \n",
       "4  글로벌 IT기업들의 인공지능 AI 스피커 음성 관련 기술을 둘러싼 경쟁이 본격화되고...   \n",
       "\n",
       "                                       sentence_text  \n",
       "0  [년 만든 조항 실행한 적은 없다 주장 자동완성연관 검색어도 개입 네이버 연합뉴스 ...  \n",
       "1  [년 월 일 매일경제 기사 요약 김기춘과 우병우 김장자는 전혀 모른다.종신형도 각오...  \n",
       "2  [음성인식음성 인식 Speech Recognition이란 사람이 말하는 음성 언어를...  \n",
       "3  [SK텔레콤은 인공지능 AI 기반 음성비서 서비스 누구 NUGU에 IBM의 왓슨 W...  \n",
       "4  [글로벌 IT기업들의 인공지능 AI 스피커 음성 관련 기술을 둘러싼 경쟁이 본격화되...  "
      ]
     },
     "execution_count": 70,
     "metadata": {},
     "output_type": "execute_result"
    }
   ],
   "source": [
    "final_df.head()"
   ]
  },
  {
   "cell_type": "code",
   "execution_count": 71,
   "metadata": {
    "collapsed": true
   },
   "outputs": [],
   "source": [
    "doc_index_list = []\n",
    "sentence_list = []\n",
    "sentence_idx_list = []\n",
    "\n",
    "for doc_idx, sentence_text in enumerate(final_df['sentence_text']):\n",
    "    length = len(sentence_text)\n",
    "    for sent_idx, sent in enumerate(sentence_text):\n",
    "        doc_index_list.append(doc_idx)\n",
    "        sentence_idx_list.append(sent_idx)\n",
    "        sentence_list.append(sent)"
   ]
  },
  {
   "cell_type": "code",
   "execution_count": 72,
   "metadata": {},
   "outputs": [
    {
     "data": {
      "text/html": [
       "<div>\n",
       "<style scoped>\n",
       "    .dataframe tbody tr th:only-of-type {\n",
       "        vertical-align: middle;\n",
       "    }\n",
       "\n",
       "    .dataframe tbody tr th {\n",
       "        vertical-align: top;\n",
       "    }\n",
       "\n",
       "    .dataframe thead th {\n",
       "        text-align: right;\n",
       "    }\n",
       "</style>\n",
       "<table border=\"1\" class=\"dataframe\">\n",
       "  <thead>\n",
       "    <tr style=\"text-align: right;\">\n",
       "      <th></th>\n",
       "      <th>document_index</th>\n",
       "      <th>sentence_index</th>\n",
       "      <th>sentence</th>\n",
       "    </tr>\n",
       "  </thead>\n",
       "  <tbody>\n",
       "    <tr>\n",
       "      <th>0</th>\n",
       "      <td>0</td>\n",
       "      <td>0</td>\n",
       "      <td>년 만든 조항 실행한 적은 없다 주장 자동완성연관 검색어도 개입 네이버 연합뉴스 취...</td>\n",
       "    </tr>\n",
       "    <tr>\n",
       "      <th>1</th>\n",
       "      <td>0</td>\n",
       "      <td>1</td>\n",
       "      <td>지난 대통령 선거가 치러진 년에 만든 이 지침에 관해 두 회사는 실행한 적은 없다고...</td>\n",
       "    </tr>\n",
       "    <tr>\n",
       "      <th>2</th>\n",
       "      <td>0</td>\n",
       "      <td>2</td>\n",
       "      <td>특히 네이버는 자체 판단과 이용자 신고 등을 이유로 하루에 수천 건에 이르는 자동완...</td>\n",
       "    </tr>\n",
       "    <tr>\n",
       "      <th>3</th>\n",
       "      <td>0</td>\n",
       "      <td>3</td>\n",
       "      <td>인터넷 여론을 검열한다는 지적이 나올 수 있는 대목이다.</td>\n",
       "    </tr>\n",
       "    <tr>\n",
       "      <th>4</th>\n",
       "      <td>0</td>\n",
       "      <td>4</td>\n",
       "      <td>연합뉴스 전문보기 내년 코스닥 상장시 기업가치 배 상승 전망 패스트 엑시트 플랫폼 ...</td>\n",
       "    </tr>\n",
       "  </tbody>\n",
       "</table>\n",
       "</div>"
      ],
      "text/plain": [
       "   document_index  sentence_index  \\\n",
       "0               0               0   \n",
       "1               0               1   \n",
       "2               0               2   \n",
       "3               0               3   \n",
       "4               0               4   \n",
       "\n",
       "                                            sentence  \n",
       "0  년 만든 조항 실행한 적은 없다 주장 자동완성연관 검색어도 개입 네이버 연합뉴스 취...  \n",
       "1  지난 대통령 선거가 치러진 년에 만든 이 지침에 관해 두 회사는 실행한 적은 없다고...  \n",
       "2  특히 네이버는 자체 판단과 이용자 신고 등을 이유로 하루에 수천 건에 이르는 자동완...  \n",
       "3                    인터넷 여론을 검열한다는 지적이 나올 수 있는 대목이다.  \n",
       "4  연합뉴스 전문보기 내년 코스닥 상장시 기업가치 배 상승 전망 패스트 엑시트 플랫폼 ...  "
      ]
     },
     "execution_count": 72,
     "metadata": {},
     "output_type": "execute_result"
    }
   ],
   "source": [
    "sentiment_df = pd.DataFrame({'document_index': doc_index_list, 'sentence_index': sentence_idx_list, 'sentence': sentence_list})\n",
    "sentiment_df.head()"
   ]
  },
  {
   "cell_type": "code",
   "execution_count": 73,
   "metadata": {
    "collapsed": true,
    "scrolled": true
   },
   "outputs": [],
   "source": [
    "sample_df = sentiment_df.sample(frac=1)"
   ]
  },
  {
   "cell_type": "code",
   "execution_count": 74,
   "metadata": {},
   "outputs": [
    {
     "data": {
      "text/html": [
       "<div>\n",
       "<style scoped>\n",
       "    .dataframe tbody tr th:only-of-type {\n",
       "        vertical-align: middle;\n",
       "    }\n",
       "\n",
       "    .dataframe tbody tr th {\n",
       "        vertical-align: top;\n",
       "    }\n",
       "\n",
       "    .dataframe thead th {\n",
       "        text-align: right;\n",
       "    }\n",
       "</style>\n",
       "<table border=\"1\" class=\"dataframe\">\n",
       "  <thead>\n",
       "    <tr style=\"text-align: right;\">\n",
       "      <th></th>\n",
       "      <th>document_index</th>\n",
       "      <th>sentence_index</th>\n",
       "      <th>sentence</th>\n",
       "    </tr>\n",
       "  </thead>\n",
       "  <tbody>\n",
       "    <tr>\n",
       "      <th>22241</th>\n",
       "      <td>1152</td>\n",
       "      <td>37</td>\n",
       "      <td>저는 이번 키트는 우리 두 아들이 해 보라고 권했는데요.</td>\n",
       "    </tr>\n",
       "    <tr>\n",
       "      <th>17653</th>\n",
       "      <td>916</td>\n",
       "      <td>4</td>\n",
       "      <td>?카카오의 행보를 보니 앞으로는카카오가 년 내로 재계 위권 내에 들어가는 초대기업이...</td>\n",
       "    </tr>\n",
       "    <tr>\n",
       "      <th>47732</th>\n",
       "      <td>2094</td>\n",
       "      <td>9</td>\n",
       "      <td>그래서 지니를 무료로 이용할 수 있는 점과 휴대성이 강조된 기가지니 버디를 구매하기...</td>\n",
       "    </tr>\n",
       "    <tr>\n",
       "      <th>49933</th>\n",
       "      <td>2162</td>\n",
       "      <td>13</td>\n",
       "      <td>.</td>\n",
       "    </tr>\n",
       "    <tr>\n",
       "      <th>36960</th>\n",
       "      <td>1734</td>\n",
       "      <td>3</td>\n",
       "      <td>IPTV 인터넷 티비 olleh 올레 tv 실시간 LIVE 라이브 생방송 채널 입니다.</td>\n",
       "    </tr>\n",
       "  </tbody>\n",
       "</table>\n",
       "</div>"
      ],
      "text/plain": [
       "       document_index  sentence_index  \\\n",
       "22241            1152              37   \n",
       "17653             916               4   \n",
       "47732            2094               9   \n",
       "49933            2162              13   \n",
       "36960            1734               3   \n",
       "\n",
       "                                                sentence  \n",
       "22241                    저는 이번 키트는 우리 두 아들이 해 보라고 권했는데요.  \n",
       "17653  ?카카오의 행보를 보니 앞으로는카카오가 년 내로 재계 위권 내에 들어가는 초대기업이...  \n",
       "47732  그래서 지니를 무료로 이용할 수 있는 점과 휴대성이 강조된 기가지니 버디를 구매하기...  \n",
       "49933                                                  .  \n",
       "36960   IPTV 인터넷 티비 olleh 올레 tv 실시간 LIVE 라이브 생방송 채널 입니다.  "
      ]
     },
     "execution_count": 74,
     "metadata": {},
     "output_type": "execute_result"
    }
   ],
   "source": [
    "sample_df.head()"
   ]
  },
  {
   "cell_type": "code",
   "execution_count": 75,
   "metadata": {
    "collapsed": true
   },
   "outputs": [],
   "source": [
    "sample_df.to_csv(\"./\"+ name +\"_shuffle_labeling.csv\", encoding='utf-8')"
   ]
  },
  {
   "cell_type": "code",
   "execution_count": 76,
   "metadata": {
    "collapsed": true
   },
   "outputs": [],
   "source": [
    "sample_df[:1000].to_excel(\"./\"+worker+\"_\"+ name +\"_labeling.xlsx\", encoding='utf-8')"
   ]
  },
  {
   "cell_type": "code",
   "execution_count": null,
   "metadata": {
    "collapsed": true
   },
   "outputs": [],
   "source": []
  },
  {
   "cell_type": "markdown",
   "metadata": {},
   "source": [
    "<br/><br/>\n",
    "### 누구 1000개"
   ]
  },
  {
   "cell_type": "code",
   "execution_count": 77,
   "metadata": {
    "collapsed": true
   },
   "outputs": [],
   "source": [
    "df = nugu_blog_df\n",
    "name = \"nugu\"\n",
    "worker = \"예린\""
   ]
  },
  {
   "cell_type": "code",
   "execution_count": 78,
   "metadata": {},
   "outputs": [
    {
     "data": {
      "text/html": [
       "<div>\n",
       "<style scoped>\n",
       "    .dataframe tbody tr th:only-of-type {\n",
       "        vertical-align: middle;\n",
       "    }\n",
       "\n",
       "    .dataframe tbody tr th {\n",
       "        vertical-align: top;\n",
       "    }\n",
       "\n",
       "    .dataframe thead th {\n",
       "        text-align: right;\n",
       "    }\n",
       "</style>\n",
       "<table border=\"1\" class=\"dataframe\">\n",
       "  <thead>\n",
       "    <tr style=\"text-align: right;\">\n",
       "      <th></th>\n",
       "      <th>title</th>\n",
       "      <th>publish_datetime</th>\n",
       "      <th>text</th>\n",
       "      <th>url</th>\n",
       "    </tr>\n",
       "  </thead>\n",
       "  <tbody>\n",
       "    <tr>\n",
       "      <th>0</th>\n",
       "      <td>SKT 음성인식 스피커 \"NUGU (누구)\" 출시 (like 아마존에코, Amazo...</td>\n",
       "      <td>2016-08-31 11:02:00</td>\n",
       "      <td>\\n안녕하세요. 제이전트(Jgent)입니다.드디어 1년 반여년 이상 준비했던 SKT...</td>\n",
       "      <td>https://blog.naver.com/zoophila?Redirect=Log&amp;l...</td>\n",
       "    </tr>\n",
       "    <tr>\n",
       "      <th>1</th>\n",
       "      <td>로봇 비서?…SKT, 음성인식AI ‘누구’ 공개</td>\n",
       "      <td>2016-08-31 16:09:00</td>\n",
       "      <td>1일부터 서비스…인공지능 대중화 시대 선언\\n“비 오는 초가을 날씨에 어울리는 노래...</td>\n",
       "      <td>https://blog.naver.com/duoprism?Redirect=Log&amp;l...</td>\n",
       "    </tr>\n",
       "    <tr>\n",
       "      <th>2</th>\n",
       "      <td>[2016.8.31 뉴스클리핑] ▲'핀테크 고속도로' 개통…금융권 공동 오픈플랫폼 ...</td>\n",
       "      <td>2016-08-31 12:26:00</td>\n",
       "      <td>세계 첫 사례…핀테크 기업들 빠른 서비스 개발 가능 핀테크 기업이 새로운 서비스를 ...</td>\n",
       "      <td>http://blog.kissoft.co.kr/220801153255</td>\n",
       "    </tr>\n",
       "    <tr>\n",
       "      <th>3</th>\n",
       "      <td>NaN</td>\n",
       "      <td>NaN</td>\n",
       "      <td>NaN</td>\n",
       "      <td>http://blog.daum.net/dandakhan/16619935</td>\n",
       "    </tr>\n",
       "    <tr>\n",
       "      <th>4</th>\n",
       "      <td>“ ‘누구’ 신나는 음악좀 틀어줘” SKT, 생활속 AI 로봇 서비스....</td>\n",
       "      <td>2016-08-31 21:19:00</td>\n",
       "      <td>\\nSK텔레콤이 지난달 31일 서울시 중구 을지로 본사에서 인공지능 개인비서 로봇 ...</td>\n",
       "      <td>https://blog.naver.com/chase65?Redirect=Log&amp;lo...</td>\n",
       "    </tr>\n",
       "  </tbody>\n",
       "</table>\n",
       "</div>"
      ],
      "text/plain": [
       "                                               title     publish_datetime  \\\n",
       "0  SKT 음성인식 스피커 \"NUGU (누구)\" 출시 (like 아마존에코, Amazo...  2016-08-31 11:02:00   \n",
       "1                         로봇 비서?…SKT, 음성인식AI ‘누구’ 공개  2016-08-31 16:09:00   \n",
       "2  [2016.8.31 뉴스클리핑] ▲'핀테크 고속도로' 개통…금융권 공동 오픈플랫폼 ...  2016-08-31 12:26:00   \n",
       "3                                                NaN                  NaN   \n",
       "4         “ ‘누구’ 신나는 음악좀 틀어줘” SKT, 생활속 AI 로봇 서비스....  2016-08-31 21:19:00   \n",
       "\n",
       "                                                text  \\\n",
       "0  \\n안녕하세요. 제이전트(Jgent)입니다.드디어 1년 반여년 이상 준비했던 SKT...   \n",
       "1  1일부터 서비스…인공지능 대중화 시대 선언\\n“비 오는 초가을 날씨에 어울리는 노래...   \n",
       "2  세계 첫 사례…핀테크 기업들 빠른 서비스 개발 가능 핀테크 기업이 새로운 서비스를 ...   \n",
       "3                                                NaN   \n",
       "4  \\nSK텔레콤이 지난달 31일 서울시 중구 을지로 본사에서 인공지능 개인비서 로봇 ...   \n",
       "\n",
       "                                                 url  \n",
       "0  https://blog.naver.com/zoophila?Redirect=Log&l...  \n",
       "1  https://blog.naver.com/duoprism?Redirect=Log&l...  \n",
       "2             http://blog.kissoft.co.kr/220801153255  \n",
       "3            http://blog.daum.net/dandakhan/16619935  \n",
       "4  https://blog.naver.com/chase65?Redirect=Log&lo...  "
      ]
     },
     "execution_count": 78,
     "metadata": {},
     "output_type": "execute_result"
    }
   ],
   "source": [
    "df.head()"
   ]
  },
  {
   "cell_type": "code",
   "execution_count": 79,
   "metadata": {},
   "outputs": [
    {
     "data": {
      "text/plain": [
       "3943"
      ]
     },
     "execution_count": 79,
     "metadata": {},
     "output_type": "execute_result"
    }
   ],
   "source": [
    "len(df)"
   ]
  },
  {
   "cell_type": "code",
   "execution_count": 80,
   "metadata": {
    "collapsed": true
   },
   "outputs": [],
   "source": [
    "df = df[df['text'].notnull()].copy()"
   ]
  },
  {
   "cell_type": "code",
   "execution_count": 81,
   "metadata": {},
   "outputs": [
    {
     "data": {
      "text/plain": [
       "3498"
      ]
     },
     "execution_count": 81,
     "metadata": {},
     "output_type": "execute_result"
    }
   ],
   "source": [
    "len(df)"
   ]
  },
  {
   "cell_type": "code",
   "execution_count": 82,
   "metadata": {
    "collapsed": true
   },
   "outputs": [],
   "source": [
    "df[\"preprocessed_text\"] = df['text'].map(clear_content) "
   ]
  },
  {
   "cell_type": "code",
   "execution_count": 83,
   "metadata": {},
   "outputs": [
    {
     "name": "stdout",
     "output_type": "stream",
     "text": [
      "[65, 219, 2098, 2256, 2381, 2515]\n"
     ]
    }
   ],
   "source": [
    "del_idx = []\n",
    "for num, i in enumerate(df['preprocessed_text']):\n",
    "    if i == '' or i == None or i == ' ':\n",
    "        del_idx.append(num)\n",
    "print(del_idx)"
   ]
  },
  {
   "cell_type": "code",
   "execution_count": 84,
   "metadata": {},
   "outputs": [
    {
     "data": {
      "text/html": [
       "<div>\n",
       "<style scoped>\n",
       "    .dataframe tbody tr th:only-of-type {\n",
       "        vertical-align: middle;\n",
       "    }\n",
       "\n",
       "    .dataframe tbody tr th {\n",
       "        vertical-align: top;\n",
       "    }\n",
       "\n",
       "    .dataframe thead th {\n",
       "        text-align: right;\n",
       "    }\n",
       "</style>\n",
       "<table border=\"1\" class=\"dataframe\">\n",
       "  <thead>\n",
       "    <tr style=\"text-align: right;\">\n",
       "      <th></th>\n",
       "      <th>title</th>\n",
       "      <th>publish_datetime</th>\n",
       "      <th>text</th>\n",
       "      <th>url</th>\n",
       "      <th>preprocessed_text</th>\n",
       "    </tr>\n",
       "  </thead>\n",
       "  <tbody>\n",
       "  </tbody>\n",
       "</table>\n",
       "</div>"
      ],
      "text/plain": [
       "Empty DataFrame\n",
       "Columns: [title, publish_datetime, text, url, preprocessed_text]\n",
       "Index: []"
      ]
     },
     "execution_count": 84,
     "metadata": {},
     "output_type": "execute_result"
    }
   ],
   "source": [
    "df[df['preprocessed_text'].isnull()]"
   ]
  },
  {
   "cell_type": "code",
   "execution_count": 85,
   "metadata": {
    "collapsed": true
   },
   "outputs": [],
   "source": [
    "final_df = df.drop(df.index[del_idx]).copy()"
   ]
  },
  {
   "cell_type": "code",
   "execution_count": 86,
   "metadata": {},
   "outputs": [
    {
     "data": {
      "text/html": [
       "<div>\n",
       "<style scoped>\n",
       "    .dataframe tbody tr th:only-of-type {\n",
       "        vertical-align: middle;\n",
       "    }\n",
       "\n",
       "    .dataframe tbody tr th {\n",
       "        vertical-align: top;\n",
       "    }\n",
       "\n",
       "    .dataframe thead th {\n",
       "        text-align: right;\n",
       "    }\n",
       "</style>\n",
       "<table border=\"1\" class=\"dataframe\">\n",
       "  <thead>\n",
       "    <tr style=\"text-align: right;\">\n",
       "      <th></th>\n",
       "      <th>title</th>\n",
       "      <th>publish_datetime</th>\n",
       "      <th>text</th>\n",
       "      <th>url</th>\n",
       "      <th>preprocessed_text</th>\n",
       "    </tr>\n",
       "  </thead>\n",
       "  <tbody>\n",
       "    <tr>\n",
       "      <th>0</th>\n",
       "      <td>SKT 음성인식 스피커 \"NUGU (누구)\" 출시 (like 아마존에코, Amazo...</td>\n",
       "      <td>2016-08-31 11:02:00</td>\n",
       "      <td>\\n안녕하세요. 제이전트(Jgent)입니다.드디어 1년 반여년 이상 준비했던 SKT...</td>\n",
       "      <td>https://blog.naver.com/zoophila?Redirect=Log&amp;l...</td>\n",
       "      <td>안녕하세요. 제이전트 Jgent입니다.드디어 년 반여년 이상 준비했던 SKT의 음성...</td>\n",
       "    </tr>\n",
       "    <tr>\n",
       "      <th>1</th>\n",
       "      <td>로봇 비서?…SKT, 음성인식AI ‘누구’ 공개</td>\n",
       "      <td>2016-08-31 16:09:00</td>\n",
       "      <td>1일부터 서비스…인공지능 대중화 시대 선언\\n“비 오는 초가을 날씨에 어울리는 노래...</td>\n",
       "      <td>https://blog.naver.com/duoprism?Redirect=Log&amp;l...</td>\n",
       "      <td>일부터 서비스인공지능 대중화 시대 선언 비 오는 초가을 날씨에 어울리는 노래를 틀어...</td>\n",
       "    </tr>\n",
       "    <tr>\n",
       "      <th>2</th>\n",
       "      <td>[2016.8.31 뉴스클리핑] ▲'핀테크 고속도로' 개통…금융권 공동 오픈플랫폼 ...</td>\n",
       "      <td>2016-08-31 12:26:00</td>\n",
       "      <td>세계 첫 사례…핀테크 기업들 빠른 서비스 개발 가능 핀테크 기업이 새로운 서비스를 ...</td>\n",
       "      <td>http://blog.kissoft.co.kr/220801153255</td>\n",
       "      <td>세계 첫 사례핀테크 기업들 빠른 서비스 개발 가능 핀테크 기업이 새로운 서비스를 개...</td>\n",
       "    </tr>\n",
       "    <tr>\n",
       "      <th>4</th>\n",
       "      <td>“ ‘누구’ 신나는 음악좀 틀어줘” SKT, 생활속 AI 로봇 서비스....</td>\n",
       "      <td>2016-08-31 21:19:00</td>\n",
       "      <td>\\nSK텔레콤이 지난달 31일 서울시 중구 을지로 본사에서 인공지능 개인비서 로봇 ...</td>\n",
       "      <td>https://blog.naver.com/chase65?Redirect=Log&amp;lo...</td>\n",
       "      <td>SK텔레콤이 지난달 일 서울시 중구 을지로 본사에서 인공지능 개인비서 로봇 누구 N...</td>\n",
       "    </tr>\n",
       "    <tr>\n",
       "      <th>5</th>\n",
       "      <td>SK텔레콤 '누구(NUGU)', AI 대중화 시대 선언</td>\n",
       "      <td>2016-08-31 11:01:00</td>\n",
       "      <td>\\nSK텔레콤이 이용자의 말을 알아듣는 인공지능(AI) 스피커로 AI서비스를 대중화...</td>\n",
       "      <td>https://blog.naver.com/jinmun03?Redirect=Log&amp;l...</td>\n",
       "      <td>SK텔레콤이 이용자의 말을 알아듣는 인공지능 AI 스피커로 AI서비스를 대중화하겠다...</td>\n",
       "    </tr>\n",
       "  </tbody>\n",
       "</table>\n",
       "</div>"
      ],
      "text/plain": [
       "                                               title     publish_datetime  \\\n",
       "0  SKT 음성인식 스피커 \"NUGU (누구)\" 출시 (like 아마존에코, Amazo...  2016-08-31 11:02:00   \n",
       "1                         로봇 비서?…SKT, 음성인식AI ‘누구’ 공개  2016-08-31 16:09:00   \n",
       "2  [2016.8.31 뉴스클리핑] ▲'핀테크 고속도로' 개통…금융권 공동 오픈플랫폼 ...  2016-08-31 12:26:00   \n",
       "4         “ ‘누구’ 신나는 음악좀 틀어줘” SKT, 생활속 AI 로봇 서비스....  2016-08-31 21:19:00   \n",
       "5                     SK텔레콤 '누구(NUGU)', AI 대중화 시대 선언  2016-08-31 11:01:00   \n",
       "\n",
       "                                                text  \\\n",
       "0  \\n안녕하세요. 제이전트(Jgent)입니다.드디어 1년 반여년 이상 준비했던 SKT...   \n",
       "1  1일부터 서비스…인공지능 대중화 시대 선언\\n“비 오는 초가을 날씨에 어울리는 노래...   \n",
       "2  세계 첫 사례…핀테크 기업들 빠른 서비스 개발 가능 핀테크 기업이 새로운 서비스를 ...   \n",
       "4  \\nSK텔레콤이 지난달 31일 서울시 중구 을지로 본사에서 인공지능 개인비서 로봇 ...   \n",
       "5  \\nSK텔레콤이 이용자의 말을 알아듣는 인공지능(AI) 스피커로 AI서비스를 대중화...   \n",
       "\n",
       "                                                 url  \\\n",
       "0  https://blog.naver.com/zoophila?Redirect=Log&l...   \n",
       "1  https://blog.naver.com/duoprism?Redirect=Log&l...   \n",
       "2             http://blog.kissoft.co.kr/220801153255   \n",
       "4  https://blog.naver.com/chase65?Redirect=Log&lo...   \n",
       "5  https://blog.naver.com/jinmun03?Redirect=Log&l...   \n",
       "\n",
       "                                   preprocessed_text  \n",
       "0  안녕하세요. 제이전트 Jgent입니다.드디어 년 반여년 이상 준비했던 SKT의 음성...  \n",
       "1  일부터 서비스인공지능 대중화 시대 선언 비 오는 초가을 날씨에 어울리는 노래를 틀어...  \n",
       "2  세계 첫 사례핀테크 기업들 빠른 서비스 개발 가능 핀테크 기업이 새로운 서비스를 개...  \n",
       "4  SK텔레콤이 지난달 일 서울시 중구 을지로 본사에서 인공지능 개인비서 로봇 누구 N...  \n",
       "5  SK텔레콤이 이용자의 말을 알아듣는 인공지능 AI 스피커로 AI서비스를 대중화하겠다...  "
      ]
     },
     "execution_count": 86,
     "metadata": {},
     "output_type": "execute_result"
    }
   ],
   "source": [
    "final_df.head()"
   ]
  },
  {
   "cell_type": "code",
   "execution_count": 87,
   "metadata": {
    "collapsed": true
   },
   "outputs": [],
   "source": [
    "import nltk.tokenize\n",
    "final_df['sentence_text'] = final_df['preprocessed_text'].map(nltk.tokenize.sent_tokenize)"
   ]
  },
  {
   "cell_type": "code",
   "execution_count": 88,
   "metadata": {
    "collapsed": true
   },
   "outputs": [],
   "source": [
    "# 빈 데이터들을 다 삭제하고 난 뒤, 인덱스를 다시 0부터 순서대로 부여해 줌\n",
    "final_df.reset_index(drop=True, inplace=True)"
   ]
  },
  {
   "cell_type": "code",
   "execution_count": 89,
   "metadata": {},
   "outputs": [
    {
     "data": {
      "text/html": [
       "<div>\n",
       "<style scoped>\n",
       "    .dataframe tbody tr th:only-of-type {\n",
       "        vertical-align: middle;\n",
       "    }\n",
       "\n",
       "    .dataframe tbody tr th {\n",
       "        vertical-align: top;\n",
       "    }\n",
       "\n",
       "    .dataframe thead th {\n",
       "        text-align: right;\n",
       "    }\n",
       "</style>\n",
       "<table border=\"1\" class=\"dataframe\">\n",
       "  <thead>\n",
       "    <tr style=\"text-align: right;\">\n",
       "      <th></th>\n",
       "      <th>title</th>\n",
       "      <th>publish_datetime</th>\n",
       "      <th>text</th>\n",
       "      <th>url</th>\n",
       "      <th>preprocessed_text</th>\n",
       "      <th>sentence_text</th>\n",
       "    </tr>\n",
       "  </thead>\n",
       "  <tbody>\n",
       "    <tr>\n",
       "      <th>0</th>\n",
       "      <td>SKT 음성인식 스피커 \"NUGU (누구)\" 출시 (like 아마존에코, Amazo...</td>\n",
       "      <td>2016-08-31 11:02:00</td>\n",
       "      <td>\\n안녕하세요. 제이전트(Jgent)입니다.드디어 1년 반여년 이상 준비했던 SKT...</td>\n",
       "      <td>https://blog.naver.com/zoophila?Redirect=Log&amp;l...</td>\n",
       "      <td>안녕하세요. 제이전트 Jgent입니다.드디어 년 반여년 이상 준비했던 SKT의 음성...</td>\n",
       "      <td>[안녕하세요., 제이전트 Jgent입니다.드디어 년 반여년 이상 준비했던 SKT의 ...</td>\n",
       "    </tr>\n",
       "    <tr>\n",
       "      <th>1</th>\n",
       "      <td>로봇 비서?…SKT, 음성인식AI ‘누구’ 공개</td>\n",
       "      <td>2016-08-31 16:09:00</td>\n",
       "      <td>1일부터 서비스…인공지능 대중화 시대 선언\\n“비 오는 초가을 날씨에 어울리는 노래...</td>\n",
       "      <td>https://blog.naver.com/duoprism?Redirect=Log&amp;l...</td>\n",
       "      <td>일부터 서비스인공지능 대중화 시대 선언 비 오는 초가을 날씨에 어울리는 노래를 틀어...</td>\n",
       "      <td>[일부터 서비스인공지능 대중화 시대 선언 비 오는 초가을 날씨에 어울리는 노래를 틀...</td>\n",
       "    </tr>\n",
       "    <tr>\n",
       "      <th>2</th>\n",
       "      <td>[2016.8.31 뉴스클리핑] ▲'핀테크 고속도로' 개통…금융권 공동 오픈플랫폼 ...</td>\n",
       "      <td>2016-08-31 12:26:00</td>\n",
       "      <td>세계 첫 사례…핀테크 기업들 빠른 서비스 개발 가능 핀테크 기업이 새로운 서비스를 ...</td>\n",
       "      <td>http://blog.kissoft.co.kr/220801153255</td>\n",
       "      <td>세계 첫 사례핀테크 기업들 빠른 서비스 개발 가능 핀테크 기업이 새로운 서비스를 개...</td>\n",
       "      <td>[세계 첫 사례핀테크 기업들 빠른 서비스 개발 가능 핀테크 기업이 새로운 서비스를 ...</td>\n",
       "    </tr>\n",
       "    <tr>\n",
       "      <th>3</th>\n",
       "      <td>“ ‘누구’ 신나는 음악좀 틀어줘” SKT, 생활속 AI 로봇 서비스....</td>\n",
       "      <td>2016-08-31 21:19:00</td>\n",
       "      <td>\\nSK텔레콤이 지난달 31일 서울시 중구 을지로 본사에서 인공지능 개인비서 로봇 ...</td>\n",
       "      <td>https://blog.naver.com/chase65?Redirect=Log&amp;lo...</td>\n",
       "      <td>SK텔레콤이 지난달 일 서울시 중구 을지로 본사에서 인공지능 개인비서 로봇 누구 N...</td>\n",
       "      <td>[SK텔레콤이 지난달 일 서울시 중구 을지로 본사에서 인공지능 개인비서 로봇 누구 ...</td>\n",
       "    </tr>\n",
       "    <tr>\n",
       "      <th>4</th>\n",
       "      <td>SK텔레콤 '누구(NUGU)', AI 대중화 시대 선언</td>\n",
       "      <td>2016-08-31 11:01:00</td>\n",
       "      <td>\\nSK텔레콤이 이용자의 말을 알아듣는 인공지능(AI) 스피커로 AI서비스를 대중화...</td>\n",
       "      <td>https://blog.naver.com/jinmun03?Redirect=Log&amp;l...</td>\n",
       "      <td>SK텔레콤이 이용자의 말을 알아듣는 인공지능 AI 스피커로 AI서비스를 대중화하겠다...</td>\n",
       "      <td>[SK텔레콤이 이용자의 말을 알아듣는 인공지능 AI 스피커로 AI서비스를 대중화하겠...</td>\n",
       "    </tr>\n",
       "  </tbody>\n",
       "</table>\n",
       "</div>"
      ],
      "text/plain": [
       "                                               title     publish_datetime  \\\n",
       "0  SKT 음성인식 스피커 \"NUGU (누구)\" 출시 (like 아마존에코, Amazo...  2016-08-31 11:02:00   \n",
       "1                         로봇 비서?…SKT, 음성인식AI ‘누구’ 공개  2016-08-31 16:09:00   \n",
       "2  [2016.8.31 뉴스클리핑] ▲'핀테크 고속도로' 개통…금융권 공동 오픈플랫폼 ...  2016-08-31 12:26:00   \n",
       "3         “ ‘누구’ 신나는 음악좀 틀어줘” SKT, 생활속 AI 로봇 서비스....  2016-08-31 21:19:00   \n",
       "4                     SK텔레콤 '누구(NUGU)', AI 대중화 시대 선언  2016-08-31 11:01:00   \n",
       "\n",
       "                                                text  \\\n",
       "0  \\n안녕하세요. 제이전트(Jgent)입니다.드디어 1년 반여년 이상 준비했던 SKT...   \n",
       "1  1일부터 서비스…인공지능 대중화 시대 선언\\n“비 오는 초가을 날씨에 어울리는 노래...   \n",
       "2  세계 첫 사례…핀테크 기업들 빠른 서비스 개발 가능 핀테크 기업이 새로운 서비스를 ...   \n",
       "3  \\nSK텔레콤이 지난달 31일 서울시 중구 을지로 본사에서 인공지능 개인비서 로봇 ...   \n",
       "4  \\nSK텔레콤이 이용자의 말을 알아듣는 인공지능(AI) 스피커로 AI서비스를 대중화...   \n",
       "\n",
       "                                                 url  \\\n",
       "0  https://blog.naver.com/zoophila?Redirect=Log&l...   \n",
       "1  https://blog.naver.com/duoprism?Redirect=Log&l...   \n",
       "2             http://blog.kissoft.co.kr/220801153255   \n",
       "3  https://blog.naver.com/chase65?Redirect=Log&lo...   \n",
       "4  https://blog.naver.com/jinmun03?Redirect=Log&l...   \n",
       "\n",
       "                                   preprocessed_text  \\\n",
       "0  안녕하세요. 제이전트 Jgent입니다.드디어 년 반여년 이상 준비했던 SKT의 음성...   \n",
       "1  일부터 서비스인공지능 대중화 시대 선언 비 오는 초가을 날씨에 어울리는 노래를 틀어...   \n",
       "2  세계 첫 사례핀테크 기업들 빠른 서비스 개발 가능 핀테크 기업이 새로운 서비스를 개...   \n",
       "3  SK텔레콤이 지난달 일 서울시 중구 을지로 본사에서 인공지능 개인비서 로봇 누구 N...   \n",
       "4  SK텔레콤이 이용자의 말을 알아듣는 인공지능 AI 스피커로 AI서비스를 대중화하겠다...   \n",
       "\n",
       "                                       sentence_text  \n",
       "0  [안녕하세요., 제이전트 Jgent입니다.드디어 년 반여년 이상 준비했던 SKT의 ...  \n",
       "1  [일부터 서비스인공지능 대중화 시대 선언 비 오는 초가을 날씨에 어울리는 노래를 틀...  \n",
       "2  [세계 첫 사례핀테크 기업들 빠른 서비스 개발 가능 핀테크 기업이 새로운 서비스를 ...  \n",
       "3  [SK텔레콤이 지난달 일 서울시 중구 을지로 본사에서 인공지능 개인비서 로봇 누구 ...  \n",
       "4  [SK텔레콤이 이용자의 말을 알아듣는 인공지능 AI 스피커로 AI서비스를 대중화하겠...  "
      ]
     },
     "execution_count": 89,
     "metadata": {},
     "output_type": "execute_result"
    }
   ],
   "source": [
    "final_df.head()"
   ]
  },
  {
   "cell_type": "code",
   "execution_count": 90,
   "metadata": {
    "collapsed": true
   },
   "outputs": [],
   "source": [
    "doc_index_list = []\n",
    "sentence_list = []\n",
    "sentence_idx_list = []\n",
    "\n",
    "for doc_idx, sentence_text in enumerate(final_df['sentence_text']):\n",
    "    length = len(sentence_text)\n",
    "    for sent_idx, sent in enumerate(sentence_text):\n",
    "        doc_index_list.append(doc_idx)\n",
    "        sentence_idx_list.append(sent_idx)\n",
    "        sentence_list.append(sent)"
   ]
  },
  {
   "cell_type": "code",
   "execution_count": 91,
   "metadata": {},
   "outputs": [
    {
     "data": {
      "text/html": [
       "<div>\n",
       "<style scoped>\n",
       "    .dataframe tbody tr th:only-of-type {\n",
       "        vertical-align: middle;\n",
       "    }\n",
       "\n",
       "    .dataframe tbody tr th {\n",
       "        vertical-align: top;\n",
       "    }\n",
       "\n",
       "    .dataframe thead th {\n",
       "        text-align: right;\n",
       "    }\n",
       "</style>\n",
       "<table border=\"1\" class=\"dataframe\">\n",
       "  <thead>\n",
       "    <tr style=\"text-align: right;\">\n",
       "      <th></th>\n",
       "      <th>document_index</th>\n",
       "      <th>sentence_index</th>\n",
       "      <th>sentence</th>\n",
       "    </tr>\n",
       "  </thead>\n",
       "  <tbody>\n",
       "    <tr>\n",
       "      <th>0</th>\n",
       "      <td>0</td>\n",
       "      <td>0</td>\n",
       "      <td>안녕하세요.</td>\n",
       "    </tr>\n",
       "    <tr>\n",
       "      <th>1</th>\n",
       "      <td>0</td>\n",
       "      <td>1</td>\n",
       "      <td>제이전트 Jgent입니다.드디어 년 반여년 이상 준비했던 SKT의 음성인식 스피커가...</td>\n",
       "    </tr>\n",
       "    <tr>\n",
       "      <th>2</th>\n",
       "      <td>0</td>\n",
       "      <td>2</td>\n",
       "      <td>너무 멋져요 건승하시길 바랍니당당연하겠지만 Amazon Echo는 Prime Mus...</td>\n",
       "    </tr>\n",
       "    <tr>\n",
       "      <th>3</th>\n",
       "      <td>0</td>\n",
       "      <td>3</td>\n",
       "      <td>너무 당연하겠죠?</td>\n",
       "    </tr>\n",
       "    <tr>\n",
       "      <th>4</th>\n",
       "      <td>0</td>\n",
       "      <td>4</td>\n",
       "      <td>ㅋㅋ쇼핑은 번가?</td>\n",
       "    </tr>\n",
       "  </tbody>\n",
       "</table>\n",
       "</div>"
      ],
      "text/plain": [
       "   document_index  sentence_index  \\\n",
       "0               0               0   \n",
       "1               0               1   \n",
       "2               0               2   \n",
       "3               0               3   \n",
       "4               0               4   \n",
       "\n",
       "                                            sentence  \n",
       "0                                             안녕하세요.  \n",
       "1  제이전트 Jgent입니다.드디어 년 반여년 이상 준비했던 SKT의 음성인식 스피커가...  \n",
       "2  너무 멋져요 건승하시길 바랍니당당연하겠지만 Amazon Echo는 Prime Mus...  \n",
       "3                                          너무 당연하겠죠?  \n",
       "4                                          ㅋㅋ쇼핑은 번가?  "
      ]
     },
     "execution_count": 91,
     "metadata": {},
     "output_type": "execute_result"
    }
   ],
   "source": [
    "sentiment_df = pd.DataFrame({'document_index': doc_index_list, 'sentence_index': sentence_idx_list, 'sentence': sentence_list})\n",
    "sentiment_df.head()"
   ]
  },
  {
   "cell_type": "code",
   "execution_count": 92,
   "metadata": {
    "collapsed": true,
    "scrolled": true
   },
   "outputs": [],
   "source": [
    "sample_df = sentiment_df.sample(frac=1)"
   ]
  },
  {
   "cell_type": "code",
   "execution_count": 93,
   "metadata": {},
   "outputs": [
    {
     "data": {
      "text/html": [
       "<div>\n",
       "<style scoped>\n",
       "    .dataframe tbody tr th:only-of-type {\n",
       "        vertical-align: middle;\n",
       "    }\n",
       "\n",
       "    .dataframe tbody tr th {\n",
       "        vertical-align: top;\n",
       "    }\n",
       "\n",
       "    .dataframe thead th {\n",
       "        text-align: right;\n",
       "    }\n",
       "</style>\n",
       "<table border=\"1\" class=\"dataframe\">\n",
       "  <thead>\n",
       "    <tr style=\"text-align: right;\">\n",
       "      <th></th>\n",
       "      <th>document_index</th>\n",
       "      <th>sentence_index</th>\n",
       "      <th>sentence</th>\n",
       "    </tr>\n",
       "  </thead>\n",
       "  <tbody>\n",
       "    <tr>\n",
       "      <th>4088</th>\n",
       "      <td>69</td>\n",
       "      <td>10</td>\n",
       "      <td>!밑에 나와있는사진은 바로 NUGU의 모습입니다.</td>\n",
       "    </tr>\n",
       "    <tr>\n",
       "      <th>91749</th>\n",
       "      <td>3151</td>\n",
       "      <td>63</td>\n",
       "      <td>.m인 다른 곳들과 달리 이곳은 .m이며 최대 배가 넓어서 탁 트인 느낌이 극대화될...</td>\n",
       "    </tr>\n",
       "    <tr>\n",
       "      <th>4647</th>\n",
       "      <td>96</td>\n",
       "      <td>2</td>\n",
       "      <td>인공지능 스피커의 첫 스타트를 끊은 기업은 바로 미국 아마존 Amazon 에서 나온...</td>\n",
       "    </tr>\n",
       "    <tr>\n",
       "      <th>34253</th>\n",
       "      <td>1136</td>\n",
       "      <td>5</td>\n",
       "      <td>In this talk we review recent advancements in ...</td>\n",
       "    </tr>\n",
       "    <tr>\n",
       "      <th>53429</th>\n",
       "      <td>1661</td>\n",
       "      <td>11</td>\n",
       "      <td>인간 개입 없이 챗봇 스스로 제품을 설명 판매 결제까지 수행 할 수 있는 것이다.</td>\n",
       "    </tr>\n",
       "  </tbody>\n",
       "</table>\n",
       "</div>"
      ],
      "text/plain": [
       "       document_index  sentence_index  \\\n",
       "4088               69              10   \n",
       "91749            3151              63   \n",
       "4647               96               2   \n",
       "34253            1136               5   \n",
       "53429            1661              11   \n",
       "\n",
       "                                                sentence  \n",
       "4088                         !밑에 나와있는사진은 바로 NUGU의 모습입니다.  \n",
       "91749  .m인 다른 곳들과 달리 이곳은 .m이며 최대 배가 넓어서 탁 트인 느낌이 극대화될...  \n",
       "4647   인공지능 스피커의 첫 스타트를 끊은 기업은 바로 미국 아마존 Amazon 에서 나온...  \n",
       "34253  In this talk we review recent advancements in ...  \n",
       "53429      인간 개입 없이 챗봇 스스로 제품을 설명 판매 결제까지 수행 할 수 있는 것이다.  "
      ]
     },
     "execution_count": 93,
     "metadata": {},
     "output_type": "execute_result"
    }
   ],
   "source": [
    "sample_df.head()"
   ]
  },
  {
   "cell_type": "code",
   "execution_count": 94,
   "metadata": {
    "collapsed": true
   },
   "outputs": [],
   "source": [
    "sample_df.to_csv(\"./\"+ name +\"_shuffle_labeling.csv\", encoding='utf-8')"
   ]
  },
  {
   "cell_type": "code",
   "execution_count": 95,
   "metadata": {
    "collapsed": true
   },
   "outputs": [],
   "source": [
    "sample_df[:1000].to_excel(\"./\"+worker+\"_\"+ name +\"_labeling.xlsx\", encoding='utf-8')"
   ]
  },
  {
   "cell_type": "code",
   "execution_count": null,
   "metadata": {
    "collapsed": true
   },
   "outputs": [],
   "source": []
  }
 ],
 "metadata": {
  "kernelspec": {
   "display_name": "Python 3",
   "language": "python",
   "name": "python3"
  },
  "language_info": {
   "codemirror_mode": {
    "name": "ipython",
    "version": 3
   },
   "file_extension": ".py",
   "mimetype": "text/x-python",
   "name": "python",
   "nbconvert_exporter": "python",
   "pygments_lexer": "ipython3",
   "version": "3.6.7"
  }
 },
 "nbformat": 4,
 "nbformat_minor": 2
}
