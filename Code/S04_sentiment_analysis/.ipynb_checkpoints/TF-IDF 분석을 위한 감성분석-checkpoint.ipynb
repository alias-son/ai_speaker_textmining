{
 "cells": [
  {
   "cell_type": "code",
   "execution_count": 1,
   "metadata": {
    "collapsed": true
   },
   "outputs": [],
   "source": [
    "import pandas as pd"
   ]
  },
  {
   "cell_type": "code",
   "execution_count": 2,
   "metadata": {
    "collapsed": true
   },
   "outputs": [],
   "source": [
    "# CSV 데이터 불러오기\n",
    "clova_df = pd.read_csv(\"../../data/sentiment/sentiment_clova.csv\", index_col=0)\n",
    "kakao_df = pd.read_csv(\"../../data/sentiment/sentiment_mini.csv\", index_col=0)\n",
    "geni_df = pd.read_csv(\"../../data/sentiment/sentiment_gigagenie.csv\", index_col=0)\n",
    "nugu_df = pd.read_csv(\"../../data/sentiment/sentiment_nugu.csv\", index_col=0)"
   ]
  },
  {
   "cell_type": "code",
   "execution_count": 3,
   "metadata": {
    "collapsed": true
   },
   "outputs": [],
   "source": [
    "# 데이터 합치기\n",
    "# 긍정 document\n",
    "pos_c_text = clova_df.positive_text[clova_df.positive_text.notnull()]\n",
    "pos_k_text = kakao_df.positive_text[kakao_df.positive_text.notnull()]\n",
    "pos_g_text = geni_df.positive_text[geni_df.positive_text.notnull()]\n",
    "pos_n_text = nugu_df.positive_text[nugu_df.positive_text.notnull()]\n",
    "\n",
    "positive_text = [pos_c_text, pos_k_text, pos_g_text, pos_n_text]"
   ]
  },
  {
   "cell_type": "code",
   "execution_count": 4,
   "metadata": {
    "collapsed": true
   },
   "outputs": [],
   "source": [
    "# 데이터 합치기\n",
    "# 부정 document\n",
    "neg_c_text = clova_df.negative_text[clova_df.negative_text.notnull()]\n",
    "neg_k_text = kakao_df.negative_text[kakao_df.negative_text.notnull()]\n",
    "neg_g_text = geni_df.negative_text[geni_df.negative_text.notnull()]\n",
    "neg_n_text = nugu_df.negative_text[nugu_df.negative_text.notnull()]\n",
    "\n",
    "negative_text = [neg_c_text, neg_k_text, neg_g_text, neg_n_text]"
   ]
  },
  {
   "cell_type": "code",
   "execution_count": 24,
   "metadata": {
    "scrolled": true
   },
   "outputs": [],
   "source": [
    "import nltk.tokenize\n",
    "\n",
    "brand = ['clova', 'kakao', 'gigagenie', 'nugu']\n",
    "for b, text in zip(brand, positive_text):\n",
    "    t = list(map(nltk.tokenize.sent_tokenize, text))\n",
    "    with open(\"{}_positive_sentence.txt\".format(b), 'w') as f:\n",
    "        for doc in t:\n",
    "            for sent in doc:\n",
    "                f.write(sent+'\\n')"
   ]
  },
  {
   "cell_type": "code",
   "execution_count": 25,
   "metadata": {
    "collapsed": true
   },
   "outputs": [],
   "source": [
    "for b, text in zip(brand, negative_text):\n",
    "    t = list(map(nltk.tokenize.sent_tokenize, text))\n",
    "    with open(\"{}_negative_sentence.txt\".format(b), 'w') as f:\n",
    "        for doc in t:\n",
    "            for sent in doc:\n",
    "                f.write(sent+'\\n')"
   ]
  },
  {
   "cell_type": "code",
   "execution_count": null,
   "metadata": {
    "collapsed": true
   },
   "outputs": [],
   "source": []
  }
 ],
 "metadata": {
  "kernelspec": {
   "display_name": "Python 3",
   "language": "python",
   "name": "python3"
  },
  "language_info": {
   "codemirror_mode": {
    "name": "ipython",
    "version": 3
   },
   "file_extension": ".py",
   "mimetype": "text/x-python",
   "name": "python",
   "nbconvert_exporter": "python",
   "pygments_lexer": "ipython3",
   "version": "3.6.7"
  }
 },
 "nbformat": 4,
 "nbformat_minor": 2
}
