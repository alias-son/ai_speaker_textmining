{
 "cells": [
  {
   "cell_type": "code",
   "execution_count": 1,
   "metadata": {
    "collapsed": true
   },
   "outputs": [],
   "source": [
    "import pandas as pd\n",
    "import numpy as np\n",
    "import re"
   ]
  },
  {
   "cell_type": "code",
   "execution_count": 6,
   "metadata": {
    "collapsed": true
   },
   "outputs": [],
   "source": [
    "clova_blog_df = pd.read_csv('/Users/Taewoo/Desktop/textmining/ai_speaker_textmining/data/naver_blog/naverclova_speaker_blog.csv'\n",
    "                            , encoding='UTF-16', index_col=0)\n",
    "kakao_blog_df = pd.read_csv('/Users/Taewoo/Desktop/textmining/ai_speaker_textmining/data/naver_blog/kakaomini_speaker_blog.csv'\n",
    "                            , encoding='UTF-8', index_col=0)\n",
    "genie_blog_df = pd.read_csv('/Users/Taewoo/Desktop/textmining/ai_speaker_textmining/data/naver_blog/gigagenie_speaker_blog.csv'\n",
    "                            , encoding='UTF-16', index_col=0)\n",
    "nugu_blog_df = pd.read_csv('/Users/Taewoo/Desktop/textmining/ai_speaker_textmining/data/naver_blog/nugu_speaker_blog.csv'\n",
    "                            , encoding='UTF-16', index_col=0)"
   ]
  },
  {
   "cell_type": "code",
   "execution_count": 15,
   "metadata": {},
   "outputs": [
    {
     "name": "stdout",
     "output_type": "stream",
     "text": [
      "4426\n"
     ]
    },
    {
     "data": {
      "text/plain": [
       "title                  1\n",
       "publish_datetime      33\n",
       "text                1021\n",
       "url                    0\n",
       "dtype: int64"
      ]
     },
     "execution_count": 15,
     "metadata": {},
     "output_type": "execute_result"
    }
   ],
   "source": [
    "print(len(clova_blog_df))\n",
    "clova_blog_df.isnull().sum()"
   ]
  },
  {
   "cell_type": "code",
   "execution_count": 16,
   "metadata": {},
   "outputs": [
    {
     "name": "stdout",
     "output_type": "stream",
     "text": [
      "2588\n"
     ]
    },
    {
     "data": {
      "text/plain": [
       "title                 1\n",
       "publish_datetime     27\n",
       "text                533\n",
       "url                   0\n",
       "dtype: int64"
      ]
     },
     "execution_count": 16,
     "metadata": {},
     "output_type": "execute_result"
    }
   ],
   "source": [
    "print(len(kakao_blog_df))\n",
    "kakao_blog_df.isnull().sum()"
   ]
  },
  {
   "cell_type": "code",
   "execution_count": 17,
   "metadata": {},
   "outputs": [
    {
     "name": "stdout",
     "output_type": "stream",
     "text": [
      "3522\n"
     ]
    },
    {
     "data": {
      "text/plain": [
       "title                  1\n",
       "publish_datetime      18\n",
       "text                1291\n",
       "url                    0\n",
       "dtype: int64"
      ]
     },
     "execution_count": 17,
     "metadata": {},
     "output_type": "execute_result"
    }
   ],
   "source": [
    "print(len(genie_blog_df))\n",
    "genie_blog_df.isnull().sum()"
   ]
  },
  {
   "cell_type": "code",
   "execution_count": 18,
   "metadata": {},
   "outputs": [
    {
     "name": "stdout",
     "output_type": "stream",
     "text": [
      "3943\n"
     ]
    },
    {
     "data": {
      "text/plain": [
       "title               417\n",
       "publish_datetime    440\n",
       "text                445\n",
       "url                   0\n",
       "dtype: int64"
      ]
     },
     "execution_count": 18,
     "metadata": {},
     "output_type": "execute_result"
    }
   ],
   "source": [
    "print(len(nugu_blog_df))\n",
    "nugu_blog_df.isnull().sum()"
   ]
  },
  {
   "cell_type": "markdown",
   "metadata": {},
   "source": [
    "<br/><br/>\n",
    "# 시작"
   ]
  },
  {
   "cell_type": "code",
   "execution_count": 23,
   "metadata": {
    "collapsed": true
   },
   "outputs": [],
   "source": [
    "def clear_content(temp):\n",
    "    #want_remove = ['flash 오류를 우회하기 위한 함수 추가', 'function _flash_removeCallback', \n",
    "    #               '\\n', '\\.\\.', '[\\w]+ 기자', '\\xa0', '\\r', '\\t']\n",
    "    content = re.sub('[a-zA-Z0-9]+[a-zA-Z0-9+-_.]+@[a-zA-Z0-9-]+\\.[a-zA-Z0-9-.]+', ' ', temp) # 이메일주소 없애기\n",
    "    content = re.sub('(https?:\\/\\/)?([\\da-z\\.-]+)\\.([a-z\\.]{2,6})([\\/\\w_\\.-]*)*\\/?', ' ', content) # URL 없애기\n",
    "    #content = re.sub('|'.join(want_remove), ' ', content)\n",
    "    content = re.sub('\\n|\\r|\\xa0', ' ', content)\n",
    "    content = re.sub('[\\(]', ' ', content) # 커머스(전자상거래)와' -> '커머스전자상거래와' 이렇게 변하던것을 -> '커머스 전자상거래'\n",
    "    content = re.sub('~', ' ', content)\n",
    "    #content = re.sub('[^\\.\\?\\!\\^^\\♥\\♡\\w\\d\\s]','', content) # 불필요한 기호 없애기\n",
    "    content = re.sub('\\d', '', content)\n",
    "    content = re.sub('[^\\.\\?\\!\\^^\\♥\\♡\\w\\s]','', content) # 불필요한 기호 없애기\n",
    "    while '  ' in content: content = content.replace('  ', ' ') # 빈칸 없애주기 \n",
    "    content = content.strip()\n",
    "    return content"
   ]
  },
  {
   "cell_type": "code",
   "execution_count": 19,
   "metadata": {},
   "outputs": [
    {
     "data": {
      "text/html": [
       "<div>\n",
       "<style scoped>\n",
       "    .dataframe tbody tr th:only-of-type {\n",
       "        vertical-align: middle;\n",
       "    }\n",
       "\n",
       "    .dataframe tbody tr th {\n",
       "        vertical-align: top;\n",
       "    }\n",
       "\n",
       "    .dataframe thead th {\n",
       "        text-align: right;\n",
       "    }\n",
       "</style>\n",
       "<table border=\"1\" class=\"dataframe\">\n",
       "  <thead>\n",
       "    <tr style=\"text-align: right;\">\n",
       "      <th></th>\n",
       "      <th>title</th>\n",
       "      <th>publish_datetime</th>\n",
       "      <th>text</th>\n",
       "      <th>url</th>\n",
       "    </tr>\n",
       "  </thead>\n",
       "  <tbody>\n",
       "    <tr>\n",
       "      <th>0</th>\n",
       "      <td>블루투스 라디오 알람시계 'iLuv 모닝콜2' 리뷰 &amp; 어플추천</td>\n",
       "      <td>2017-09-02 11:43:00</td>\n",
       "      <td>침대 옆 공간은 좁지만 놓아야 할 것들이 꽤 많아서 늘 비좁은데, 침대맡에 하나 두...</td>\n",
       "      <td>http://blog.naver.com/PostView.nhn?blogId=revi...</td>\n",
       "    </tr>\n",
       "    <tr>\n",
       "      <th>1</th>\n",
       "      <td>WAVE 리뷰를 하려다가 QA?</td>\n",
       "      <td>2017-09-02 08:50:00</td>\n",
       "      <td>WAVE 를 입수한 김에 큰 맘먹고 리뷰를 한 번 써보려다가 결국 근사한 리뷰작성 ...</td>\n",
       "      <td>http://blog.naver.com/PostView.nhn?blogId=revi...</td>\n",
       "    </tr>\n",
       "    <tr>\n",
       "      <th>2</th>\n",
       "      <td>핀테크의 교육이 시급하다</td>\n",
       "      <td>2017-09-03 20:49:00</td>\n",
       "      <td>통장없이 휴대폰 하나에 공인인증서만 받아두면 왠만한 은행업무는 휴대폰 하나로 끝난다...</td>\n",
       "      <td>http://blog.naver.com/PostView.nhn?blogId=revi...</td>\n",
       "    </tr>\n",
       "    <tr>\n",
       "      <th>3</th>\n",
       "      <td>스마트 스피커는 어떤 제품들이 있을까?</td>\n",
       "      <td>2017-09-04 17:11:00</td>\n",
       "      <td>최근 등장한 새로운 용어바로 스마트 스피커입니다.간단히 설명하면 음성인식이 가능해서...</td>\n",
       "      <td>http://blog.naver.com/PostView.nhn?blogId=revi...</td>\n",
       "    </tr>\n",
       "    <tr>\n",
       "      <th>4</th>\n",
       "      <td>AI, 클라우드 플랫폼이라는 전장에서 모두가 만난다 - Byline Network</td>\n",
       "      <td>NaN</td>\n",
       "      <td>NaN</td>\n",
       "      <td>http://blog.naver.com/PostView.nhn?blogId=revi...</td>\n",
       "    </tr>\n",
       "  </tbody>\n",
       "</table>\n",
       "</div>"
      ],
      "text/plain": [
       "                                           title     publish_datetime  \\\n",
       "0            블루투스 라디오 알람시계 'iLuv 모닝콜2' 리뷰 & 어플추천  2017-09-02 11:43:00   \n",
       "1                              WAVE 리뷰를 하려다가 QA?  2017-09-02 08:50:00   \n",
       "2                                  핀테크의 교육이 시급하다  2017-09-03 20:49:00   \n",
       "3                          스마트 스피커는 어떤 제품들이 있을까?  2017-09-04 17:11:00   \n",
       "4  AI, 클라우드 플랫폼이라는 전장에서 모두가 만난다 - Byline Network                  NaN   \n",
       "\n",
       "                                                text  \\\n",
       "0  침대 옆 공간은 좁지만 놓아야 할 것들이 꽤 많아서 늘 비좁은데, 침대맡에 하나 두...   \n",
       "1  WAVE 를 입수한 김에 큰 맘먹고 리뷰를 한 번 써보려다가 결국 근사한 리뷰작성 ...   \n",
       "2  통장없이 휴대폰 하나에 공인인증서만 받아두면 왠만한 은행업무는 휴대폰 하나로 끝난다...   \n",
       "3  최근 등장한 새로운 용어바로 스마트 스피커입니다.간단히 설명하면 음성인식이 가능해서...   \n",
       "4                                                NaN   \n",
       "\n",
       "                                                 url  \n",
       "0  http://blog.naver.com/PostView.nhn?blogId=revi...  \n",
       "1  http://blog.naver.com/PostView.nhn?blogId=revi...  \n",
       "2  http://blog.naver.com/PostView.nhn?blogId=revi...  \n",
       "3  http://blog.naver.com/PostView.nhn?blogId=revi...  \n",
       "4  http://blog.naver.com/PostView.nhn?blogId=revi...  "
      ]
     },
     "execution_count": 19,
     "metadata": {},
     "output_type": "execute_result"
    }
   ],
   "source": [
    "clova_blog_df.head()"
   ]
  },
  {
   "cell_type": "code",
   "execution_count": 20,
   "metadata": {
    "collapsed": true
   },
   "outputs": [],
   "source": [
    "clova_blog_df = clova_blog_df[clova_blog_df['text'].notnull()].copy()"
   ]
  },
  {
   "cell_type": "code",
   "execution_count": 24,
   "metadata": {
    "collapsed": true
   },
   "outputs": [],
   "source": [
    "clova_blog_df[\"preprocessed_text\"] = clova_blog_df['text'].map(clear_content) "
   ]
  },
  {
   "cell_type": "code",
   "execution_count": 25,
   "metadata": {},
   "outputs": [
    {
     "name": "stdout",
     "output_type": "stream",
     "text": [
      "[]\n"
     ]
    }
   ],
   "source": [
    "del_idx = []\n",
    "for num, i in enumerate(clova_blog_df['preprocessed_text']):\n",
    "    if i == '' or i == None or i == ' ':\n",
    "        del_idx.append(num)\n",
    "print(del_idx)"
   ]
  },
  {
   "cell_type": "code",
   "execution_count": 26,
   "metadata": {},
   "outputs": [
    {
     "data": {
      "text/html": [
       "<div>\n",
       "<style scoped>\n",
       "    .dataframe tbody tr th:only-of-type {\n",
       "        vertical-align: middle;\n",
       "    }\n",
       "\n",
       "    .dataframe tbody tr th {\n",
       "        vertical-align: top;\n",
       "    }\n",
       "\n",
       "    .dataframe thead th {\n",
       "        text-align: right;\n",
       "    }\n",
       "</style>\n",
       "<table border=\"1\" class=\"dataframe\">\n",
       "  <thead>\n",
       "    <tr style=\"text-align: right;\">\n",
       "      <th></th>\n",
       "      <th>title</th>\n",
       "      <th>publish_datetime</th>\n",
       "      <th>text</th>\n",
       "      <th>url</th>\n",
       "      <th>preprocessed_text</th>\n",
       "    </tr>\n",
       "  </thead>\n",
       "  <tbody>\n",
       "  </tbody>\n",
       "</table>\n",
       "</div>"
      ],
      "text/plain": [
       "Empty DataFrame\n",
       "Columns: [title, publish_datetime, text, url, preprocessed_text]\n",
       "Index: []"
      ]
     },
     "execution_count": 26,
     "metadata": {},
     "output_type": "execute_result"
    }
   ],
   "source": [
    "clova_blog_df[clova_blog_df['preprocessed_text'].isnull()]"
   ]
  },
  {
   "cell_type": "code",
   "execution_count": 27,
   "metadata": {
    "collapsed": true
   },
   "outputs": [],
   "source": [
    "final_clova_df = clova_blog_df.drop(del_idx).copy()"
   ]
  },
  {
   "cell_type": "code",
   "execution_count": 28,
   "metadata": {},
   "outputs": [
    {
     "data": {
      "text/html": [
       "<div>\n",
       "<style scoped>\n",
       "    .dataframe tbody tr th:only-of-type {\n",
       "        vertical-align: middle;\n",
       "    }\n",
       "\n",
       "    .dataframe tbody tr th {\n",
       "        vertical-align: top;\n",
       "    }\n",
       "\n",
       "    .dataframe thead th {\n",
       "        text-align: right;\n",
       "    }\n",
       "</style>\n",
       "<table border=\"1\" class=\"dataframe\">\n",
       "  <thead>\n",
       "    <tr style=\"text-align: right;\">\n",
       "      <th></th>\n",
       "      <th>title</th>\n",
       "      <th>publish_datetime</th>\n",
       "      <th>text</th>\n",
       "      <th>url</th>\n",
       "      <th>preprocessed_text</th>\n",
       "    </tr>\n",
       "  </thead>\n",
       "  <tbody>\n",
       "    <tr>\n",
       "      <th>0</th>\n",
       "      <td>블루투스 라디오 알람시계 'iLuv 모닝콜2' 리뷰 &amp; 어플추천</td>\n",
       "      <td>2017-09-02 11:43:00</td>\n",
       "      <td>침대 옆 공간은 좁지만 놓아야 할 것들이 꽤 많아서 늘 비좁은데, 침대맡에 하나 두...</td>\n",
       "      <td>http://blog.naver.com/PostView.nhn?blogId=revi...</td>\n",
       "      <td>침대 옆 공간은 좁지만 놓아야 할 것들이 꽤 많아서 늘 비좁은데 침대맡에 하나 두고...</td>\n",
       "    </tr>\n",
       "    <tr>\n",
       "      <th>1</th>\n",
       "      <td>WAVE 리뷰를 하려다가 QA?</td>\n",
       "      <td>2017-09-02 08:50:00</td>\n",
       "      <td>WAVE 를 입수한 김에 큰 맘먹고 리뷰를 한 번 써보려다가 결국 근사한 리뷰작성 ...</td>\n",
       "      <td>http://blog.naver.com/PostView.nhn?blogId=revi...</td>\n",
       "      <td>WAVE 를 입수한 김에 큰 맘먹고 리뷰를 한 번 써보려다가 결국 근사한 리뷰작성 ...</td>\n",
       "    </tr>\n",
       "    <tr>\n",
       "      <th>2</th>\n",
       "      <td>핀테크의 교육이 시급하다</td>\n",
       "      <td>2017-09-03 20:49:00</td>\n",
       "      <td>통장없이 휴대폰 하나에 공인인증서만 받아두면 왠만한 은행업무는 휴대폰 하나로 끝난다...</td>\n",
       "      <td>http://blog.naver.com/PostView.nhn?blogId=revi...</td>\n",
       "      <td>통장없이 휴대폰 하나에 공인인증서만 받아두면 왠만한 은행업무는 휴대폰 하나로 끝난다...</td>\n",
       "    </tr>\n",
       "    <tr>\n",
       "      <th>3</th>\n",
       "      <td>스마트 스피커는 어떤 제품들이 있을까?</td>\n",
       "      <td>2017-09-04 17:11:00</td>\n",
       "      <td>최근 등장한 새로운 용어바로 스마트 스피커입니다.간단히 설명하면 음성인식이 가능해서...</td>\n",
       "      <td>http://blog.naver.com/PostView.nhn?blogId=revi...</td>\n",
       "      <td>최근 등장한 새로운 용어바로 스마트 스피커입니다.간단히 설명하면 음성인식이 가능해서...</td>\n",
       "    </tr>\n",
       "    <tr>\n",
       "      <th>5</th>\n",
       "      <td>[위드컬처/트렌드] 미래의 거주환경, 스마트 홈이 다가온다</td>\n",
       "      <td>2017-09-08 19:04:00</td>\n",
       "      <td>[위드컬처/트렌드] 미래의 거주환경, 스마트 홈이 다가온다\\n4차 산업 혁명 시대,...</td>\n",
       "      <td>http://blog.naver.com/PostView.nhn?blogId=revi...</td>\n",
       "      <td>위드컬처트렌드 미래의 거주환경 스마트 홈이 다가온다 4차 산업 혁명 시대 세계는 지...</td>\n",
       "    </tr>\n",
       "  </tbody>\n",
       "</table>\n",
       "</div>"
      ],
      "text/plain": [
       "                                 title     publish_datetime  \\\n",
       "0  블루투스 라디오 알람시계 'iLuv 모닝콜2' 리뷰 & 어플추천  2017-09-02 11:43:00   \n",
       "1                    WAVE 리뷰를 하려다가 QA?  2017-09-02 08:50:00   \n",
       "2                        핀테크의 교육이 시급하다  2017-09-03 20:49:00   \n",
       "3                스마트 스피커는 어떤 제품들이 있을까?  2017-09-04 17:11:00   \n",
       "5     [위드컬처/트렌드] 미래의 거주환경, 스마트 홈이 다가온다  2017-09-08 19:04:00   \n",
       "\n",
       "                                                text  \\\n",
       "0  침대 옆 공간은 좁지만 놓아야 할 것들이 꽤 많아서 늘 비좁은데, 침대맡에 하나 두...   \n",
       "1  WAVE 를 입수한 김에 큰 맘먹고 리뷰를 한 번 써보려다가 결국 근사한 리뷰작성 ...   \n",
       "2  통장없이 휴대폰 하나에 공인인증서만 받아두면 왠만한 은행업무는 휴대폰 하나로 끝난다...   \n",
       "3  최근 등장한 새로운 용어바로 스마트 스피커입니다.간단히 설명하면 음성인식이 가능해서...   \n",
       "5  [위드컬처/트렌드] 미래의 거주환경, 스마트 홈이 다가온다\\n4차 산업 혁명 시대,...   \n",
       "\n",
       "                                                 url  \\\n",
       "0  http://blog.naver.com/PostView.nhn?blogId=revi...   \n",
       "1  http://blog.naver.com/PostView.nhn?blogId=revi...   \n",
       "2  http://blog.naver.com/PostView.nhn?blogId=revi...   \n",
       "3  http://blog.naver.com/PostView.nhn?blogId=revi...   \n",
       "5  http://blog.naver.com/PostView.nhn?blogId=revi...   \n",
       "\n",
       "                                   preprocessed_text  \n",
       "0  침대 옆 공간은 좁지만 놓아야 할 것들이 꽤 많아서 늘 비좁은데 침대맡에 하나 두고...  \n",
       "1  WAVE 를 입수한 김에 큰 맘먹고 리뷰를 한 번 써보려다가 결국 근사한 리뷰작성 ...  \n",
       "2  통장없이 휴대폰 하나에 공인인증서만 받아두면 왠만한 은행업무는 휴대폰 하나로 끝난다...  \n",
       "3  최근 등장한 새로운 용어바로 스마트 스피커입니다.간단히 설명하면 음성인식이 가능해서...  \n",
       "5  위드컬처트렌드 미래의 거주환경 스마트 홈이 다가온다 4차 산업 혁명 시대 세계는 지...  "
      ]
     },
     "execution_count": 28,
     "metadata": {},
     "output_type": "execute_result"
    }
   ],
   "source": [
    "final_clova_df.head()"
   ]
  },
  {
   "cell_type": "code",
   "execution_count": 29,
   "metadata": {
    "collapsed": true
   },
   "outputs": [],
   "source": [
    "import nltk.tokenize\n",
    "final_clova_df['sentence_text'] = final_clova_df['preprocessed_text'].map(nltk.tokenize.sent_tokenize)"
   ]
  },
  {
   "cell_type": "code",
   "execution_count": 30,
   "metadata": {},
   "outputs": [
    {
     "data": {
      "text/html": [
       "<div>\n",
       "<style scoped>\n",
       "    .dataframe tbody tr th:only-of-type {\n",
       "        vertical-align: middle;\n",
       "    }\n",
       "\n",
       "    .dataframe tbody tr th {\n",
       "        vertical-align: top;\n",
       "    }\n",
       "\n",
       "    .dataframe thead th {\n",
       "        text-align: right;\n",
       "    }\n",
       "</style>\n",
       "<table border=\"1\" class=\"dataframe\">\n",
       "  <thead>\n",
       "    <tr style=\"text-align: right;\">\n",
       "      <th></th>\n",
       "      <th>title</th>\n",
       "      <th>publish_datetime</th>\n",
       "      <th>text</th>\n",
       "      <th>url</th>\n",
       "      <th>preprocessed_text</th>\n",
       "      <th>sentence_text</th>\n",
       "    </tr>\n",
       "  </thead>\n",
       "  <tbody>\n",
       "    <tr>\n",
       "      <th>0</th>\n",
       "      <td>블루투스 라디오 알람시계 'iLuv 모닝콜2' 리뷰 &amp; 어플추천</td>\n",
       "      <td>2017-09-02 11:43:00</td>\n",
       "      <td>침대 옆 공간은 좁지만 놓아야 할 것들이 꽤 많아서 늘 비좁은데, 침대맡에 하나 두...</td>\n",
       "      <td>http://blog.naver.com/PostView.nhn?blogId=revi...</td>\n",
       "      <td>침대 옆 공간은 좁지만 놓아야 할 것들이 꽤 많아서 늘 비좁은데 침대맡에 하나 두고...</td>\n",
       "      <td>[침대 옆 공간은 좁지만 놓아야 할 것들이 꽤 많아서 늘 비좁은데 침대맡에 하나 두...</td>\n",
       "    </tr>\n",
       "    <tr>\n",
       "      <th>1</th>\n",
       "      <td>WAVE 리뷰를 하려다가 QA?</td>\n",
       "      <td>2017-09-02 08:50:00</td>\n",
       "      <td>WAVE 를 입수한 김에 큰 맘먹고 리뷰를 한 번 써보려다가 결국 근사한 리뷰작성 ...</td>\n",
       "      <td>http://blog.naver.com/PostView.nhn?blogId=revi...</td>\n",
       "      <td>WAVE 를 입수한 김에 큰 맘먹고 리뷰를 한 번 써보려다가 결국 근사한 리뷰작성 ...</td>\n",
       "      <td>[WAVE 를 입수한 김에 큰 맘먹고 리뷰를 한 번 써보려다가 결국 근사한 리뷰작성...</td>\n",
       "    </tr>\n",
       "    <tr>\n",
       "      <th>2</th>\n",
       "      <td>핀테크의 교육이 시급하다</td>\n",
       "      <td>2017-09-03 20:49:00</td>\n",
       "      <td>통장없이 휴대폰 하나에 공인인증서만 받아두면 왠만한 은행업무는 휴대폰 하나로 끝난다...</td>\n",
       "      <td>http://blog.naver.com/PostView.nhn?blogId=revi...</td>\n",
       "      <td>통장없이 휴대폰 하나에 공인인증서만 받아두면 왠만한 은행업무는 휴대폰 하나로 끝난다...</td>\n",
       "      <td>[통장없이 휴대폰 하나에 공인인증서만 받아두면 왠만한 은행업무는 휴대폰 하나로 끝난...</td>\n",
       "    </tr>\n",
       "    <tr>\n",
       "      <th>3</th>\n",
       "      <td>스마트 스피커는 어떤 제품들이 있을까?</td>\n",
       "      <td>2017-09-04 17:11:00</td>\n",
       "      <td>최근 등장한 새로운 용어바로 스마트 스피커입니다.간단히 설명하면 음성인식이 가능해서...</td>\n",
       "      <td>http://blog.naver.com/PostView.nhn?blogId=revi...</td>\n",
       "      <td>최근 등장한 새로운 용어바로 스마트 스피커입니다.간단히 설명하면 음성인식이 가능해서...</td>\n",
       "      <td>[최근 등장한 새로운 용어바로 스마트 스피커입니다.간단히 설명하면 음성인식이 가능해...</td>\n",
       "    </tr>\n",
       "    <tr>\n",
       "      <th>5</th>\n",
       "      <td>[위드컬처/트렌드] 미래의 거주환경, 스마트 홈이 다가온다</td>\n",
       "      <td>2017-09-08 19:04:00</td>\n",
       "      <td>[위드컬처/트렌드] 미래의 거주환경, 스마트 홈이 다가온다\\n4차 산업 혁명 시대,...</td>\n",
       "      <td>http://blog.naver.com/PostView.nhn?blogId=revi...</td>\n",
       "      <td>위드컬처트렌드 미래의 거주환경 스마트 홈이 다가온다 4차 산업 혁명 시대 세계는 지...</td>\n",
       "      <td>[위드컬처트렌드 미래의 거주환경 스마트 홈이 다가온다 4차 산업 혁명 시대 세계는 ...</td>\n",
       "    </tr>\n",
       "  </tbody>\n",
       "</table>\n",
       "</div>"
      ],
      "text/plain": [
       "                                 title     publish_datetime  \\\n",
       "0  블루투스 라디오 알람시계 'iLuv 모닝콜2' 리뷰 & 어플추천  2017-09-02 11:43:00   \n",
       "1                    WAVE 리뷰를 하려다가 QA?  2017-09-02 08:50:00   \n",
       "2                        핀테크의 교육이 시급하다  2017-09-03 20:49:00   \n",
       "3                스마트 스피커는 어떤 제품들이 있을까?  2017-09-04 17:11:00   \n",
       "5     [위드컬처/트렌드] 미래의 거주환경, 스마트 홈이 다가온다  2017-09-08 19:04:00   \n",
       "\n",
       "                                                text  \\\n",
       "0  침대 옆 공간은 좁지만 놓아야 할 것들이 꽤 많아서 늘 비좁은데, 침대맡에 하나 두...   \n",
       "1  WAVE 를 입수한 김에 큰 맘먹고 리뷰를 한 번 써보려다가 결국 근사한 리뷰작성 ...   \n",
       "2  통장없이 휴대폰 하나에 공인인증서만 받아두면 왠만한 은행업무는 휴대폰 하나로 끝난다...   \n",
       "3  최근 등장한 새로운 용어바로 스마트 스피커입니다.간단히 설명하면 음성인식이 가능해서...   \n",
       "5  [위드컬처/트렌드] 미래의 거주환경, 스마트 홈이 다가온다\\n4차 산업 혁명 시대,...   \n",
       "\n",
       "                                                 url  \\\n",
       "0  http://blog.naver.com/PostView.nhn?blogId=revi...   \n",
       "1  http://blog.naver.com/PostView.nhn?blogId=revi...   \n",
       "2  http://blog.naver.com/PostView.nhn?blogId=revi...   \n",
       "3  http://blog.naver.com/PostView.nhn?blogId=revi...   \n",
       "5  http://blog.naver.com/PostView.nhn?blogId=revi...   \n",
       "\n",
       "                                   preprocessed_text  \\\n",
       "0  침대 옆 공간은 좁지만 놓아야 할 것들이 꽤 많아서 늘 비좁은데 침대맡에 하나 두고...   \n",
       "1  WAVE 를 입수한 김에 큰 맘먹고 리뷰를 한 번 써보려다가 결국 근사한 리뷰작성 ...   \n",
       "2  통장없이 휴대폰 하나에 공인인증서만 받아두면 왠만한 은행업무는 휴대폰 하나로 끝난다...   \n",
       "3  최근 등장한 새로운 용어바로 스마트 스피커입니다.간단히 설명하면 음성인식이 가능해서...   \n",
       "5  위드컬처트렌드 미래의 거주환경 스마트 홈이 다가온다 4차 산업 혁명 시대 세계는 지...   \n",
       "\n",
       "                                       sentence_text  \n",
       "0  [침대 옆 공간은 좁지만 놓아야 할 것들이 꽤 많아서 늘 비좁은데 침대맡에 하나 두...  \n",
       "1  [WAVE 를 입수한 김에 큰 맘먹고 리뷰를 한 번 써보려다가 결국 근사한 리뷰작성...  \n",
       "2  [통장없이 휴대폰 하나에 공인인증서만 받아두면 왠만한 은행업무는 휴대폰 하나로 끝난...  \n",
       "3  [최근 등장한 새로운 용어바로 스마트 스피커입니다.간단히 설명하면 음성인식이 가능해...  \n",
       "5  [위드컬처트렌드 미래의 거주환경 스마트 홈이 다가온다 4차 산업 혁명 시대 세계는 ...  "
      ]
     },
     "execution_count": 30,
     "metadata": {},
     "output_type": "execute_result"
    }
   ],
   "source": [
    "final_clova_df.head()"
   ]
  },
  {
   "cell_type": "code",
   "execution_count": 42,
   "metadata": {
    "collapsed": true
   },
   "outputs": [],
   "source": [
    "doc_index_list = []\n",
    "sentence_list = []\n",
    "sentence_idx_list = []\n",
    "\n",
    "for doc_idx, sentence_text in enumerate(final_clova_df['sentence_text']):\n",
    "    length = len(sentence_text)\n",
    "    for sent_idx, sent in enumerate(sentence_text):\n",
    "        doc_index_list.append(doc_idx)\n",
    "        sentence_idx_list.append(sent_idx)\n",
    "        sentence_list.append(sent)"
   ]
  },
  {
   "cell_type": "code",
   "execution_count": 51,
   "metadata": {},
   "outputs": [
    {
     "data": {
      "text/html": [
       "<div>\n",
       "<style scoped>\n",
       "    .dataframe tbody tr th:only-of-type {\n",
       "        vertical-align: middle;\n",
       "    }\n",
       "\n",
       "    .dataframe tbody tr th {\n",
       "        vertical-align: top;\n",
       "    }\n",
       "\n",
       "    .dataframe thead th {\n",
       "        text-align: right;\n",
       "    }\n",
       "</style>\n",
       "<table border=\"1\" class=\"dataframe\">\n",
       "  <thead>\n",
       "    <tr style=\"text-align: right;\">\n",
       "      <th></th>\n",
       "      <th>document_index</th>\n",
       "      <th>sentence_idx</th>\n",
       "      <th>sentence</th>\n",
       "    </tr>\n",
       "  </thead>\n",
       "  <tbody>\n",
       "    <tr>\n",
       "      <th>0</th>\n",
       "      <td>0</td>\n",
       "      <td>0</td>\n",
       "      <td>침대 옆 공간은 좁지만 놓아야 할 것들이 꽤 많아서 늘 비좁은데 침대맡에 하나 두고...</td>\n",
       "    </tr>\n",
       "    <tr>\n",
       "      <th>1</th>\n",
       "      <td>0</td>\n",
       "      <td>1</td>\n",
       "      <td>블루투스 스피커 LED 알람시계 라디오 충전용USB 아이러브 iLuv 모닝콜 2 이...</td>\n",
       "    </tr>\n",
       "    <tr>\n",
       "      <th>2</th>\n",
       "      <td>0</td>\n",
       "      <td>2</td>\n",
       "      <td>딱히 라디오라고 정의하기는 애매한데 생긴 것이 라디오 같으니까...ㅎㅎ 크기는 사진...</td>\n",
       "    </tr>\n",
       "    <tr>\n",
       "      <th>3</th>\n",
       "      <td>0</td>\n",
       "      <td>3</td>\n",
       "      <td>한 뼘 조금 안되는 아담 사이즈.</td>\n",
       "    </tr>\n",
       "    <tr>\n",
       "      <th>4</th>\n",
       "      <td>0</td>\n",
       "      <td>4</td>\n",
       "      <td>침대 옆 탁자나 싱크대 혹은 책상 앞에 올려 놓기 좋은 크기예요.</td>\n",
       "    </tr>\n",
       "  </tbody>\n",
       "</table>\n",
       "</div>"
      ],
      "text/plain": [
       "   document_index  sentence_idx  \\\n",
       "0               0             0   \n",
       "1               0             1   \n",
       "2               0             2   \n",
       "3               0             3   \n",
       "4               0             4   \n",
       "\n",
       "                                            sentence  \n",
       "0  침대 옆 공간은 좁지만 놓아야 할 것들이 꽤 많아서 늘 비좁은데 침대맡에 하나 두고...  \n",
       "1  블루투스 스피커 LED 알람시계 라디오 충전용USB 아이러브 iLuv 모닝콜 2 이...  \n",
       "2  딱히 라디오라고 정의하기는 애매한데 생긴 것이 라디오 같으니까...ㅎㅎ 크기는 사진...  \n",
       "3                                 한 뼘 조금 안되는 아담 사이즈.  \n",
       "4               침대 옆 탁자나 싱크대 혹은 책상 앞에 올려 놓기 좋은 크기예요.  "
      ]
     },
     "execution_count": 51,
     "metadata": {},
     "output_type": "execute_result"
    }
   ],
   "source": [
    "sentiment_df = pd.DataFrame({'document_index': doc_index_list, 'sentence_idx': sentence_idx_list, 'sentence': sentence_list})\n",
    "sentiment_df.head()"
   ]
  },
  {
   "cell_type": "code",
   "execution_count": 54,
   "metadata": {
    "collapsed": true,
    "scrolled": true
   },
   "outputs": [],
   "source": [
    "sample_df = sentiment_df.sample(frac=1)"
   ]
  },
  {
   "cell_type": "code",
   "execution_count": 58,
   "metadata": {
    "collapsed": true
   },
   "outputs": [],
   "source": [
    "sample_df.to_csv(\"./clova_shuffle_labeling.csv\", encoding='utf-8')"
   ]
  },
  {
   "cell_type": "code",
   "execution_count": 55,
   "metadata": {
    "collapsed": true
   },
   "outputs": [],
   "source": [
    "sample_df[:350].to_excel(\"./hs_clova_labeling.xlsx\", encoding='utf-8')"
   ]
  },
  {
   "cell_type": "code",
   "execution_count": 56,
   "metadata": {
    "collapsed": true
   },
   "outputs": [],
   "source": [
    "sample_df[350:700].to_excel(\"./tw_clova_labeling.xlsx\", encoding='utf-8')"
   ]
  },
  {
   "cell_type": "code",
   "execution_count": null,
   "metadata": {
    "collapsed": true
   },
   "outputs": [],
   "source": []
  }
 ],
 "metadata": {
  "kernelspec": {
   "display_name": "Python 3",
   "language": "python",
   "name": "python3"
  },
  "language_info": {
   "codemirror_mode": {
    "name": "ipython",
    "version": 3
   },
   "file_extension": ".py",
   "mimetype": "text/x-python",
   "name": "python",
   "nbconvert_exporter": "python",
   "pygments_lexer": "ipython3",
   "version": "3.6.7"
  }
 },
 "nbformat": 4,
 "nbformat_minor": 2
}
